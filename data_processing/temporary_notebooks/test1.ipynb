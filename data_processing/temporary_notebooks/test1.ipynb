{
 "cells": [
  {
   "cell_type": "code",
   "execution_count": null,
   "id": "voluntary-chaos",
   "metadata": {},
   "outputs": [],
   "source": [
    "import os\n",
    "\n",
    "import numpy as np\n",
    "import cv2\n",
    "from matplotlib import pyplot as plt\n",
    "import importlib\n",
    "\n",
    "import config\n"
   ]
  },
  {
   "cell_type": "markdown",
   "id": "indie-music",
   "metadata": {},
   "source": [
    "# Load IR data CSV"
   ]
  },
  {
   "cell_type": "code",
   "execution_count": null,
   "id": "quality-brand",
   "metadata": {},
   "outputs": [],
   "source": [
    "csv_file_path = os.path.abspath(os.path.join('.', 'example_data', 'one_person_close.csv'))\n",
    "print(f\"csv_file_path={csv_file_path}\")\n",
    "\n",
    "with open(csv_file_path, 'r') as file:\n",
    "    lines = file.readlines()\n",
    "    \n",
    "lines = [x.strip() for x in lines] \n",
    "\n",
    "\n",
    "print(f\"{lines[0]}\\n {lines[1][:90]} \\n {lines[2][:90]}\")\n",
    "\n",
    "frame_lines = lines[1:]\n",
    "number_of_ir_frames = len(frame_lines)\n",
    "print(f\"Number of frames: {number_of_ir_frames}\")\n"
   ]
  },
  {
   "cell_type": "code",
   "execution_count": null,
   "id": "diagnostic-skirt",
   "metadata": {},
   "outputs": [],
   "source": []
  },
  {
   "cell_type": "code",
   "execution_count": null,
   "id": "optional-vampire",
   "metadata": {},
   "outputs": [],
   "source": [
    "def get_ir_frame_data(frame_index):\n",
    "    line_parts = frame_lines[frame_index].split(',')\n",
    "    frame_data_str = line_parts[2:] \n",
    "    frame_data_1d = [float(x) for x in frame_data_str]\n",
    "    frame_2d = np.reshape(frame_data_1d, config.IR_CAMERA_RESOLUTION)\n",
    "    return frame_2d\n",
    "\n",
    "\n"
   ]
  },
  {
   "cell_type": "markdown",
   "id": "equipped-vintage",
   "metadata": {},
   "source": [
    "# Show some frames"
   ]
  },
  {
   "cell_type": "code",
   "execution_count": null,
   "id": "damaged-battery",
   "metadata": {
    "scrolled": true
   },
   "outputs": [],
   "source": [
    "for frame_index in [0, number_of_ir_frames//3, number_of_ir_frames//2, number_of_ir_frames-1]:\n",
    "    frame_2d = get_ir_frame_data(frame_index)\n",
    "    plt.figure()\n",
    "    plt.imshow(frame_2d)"
   ]
  },
  {
   "cell_type": "code",
   "execution_count": null,
   "id": "adequate-leisure",
   "metadata": {},
   "outputs": [],
   "source": []
  },
  {
   "cell_type": "markdown",
   "id": "guided-switch",
   "metadata": {},
   "source": [
    "# Extrapolation of the frame\n"
   ]
  },
  {
   "cell_type": "code",
   "execution_count": null,
   "id": "distant-monroe",
   "metadata": {
    "scrolled": true
   },
   "outputs": [],
   "source": [
    "frame_index = 3\n",
    "frame_2d = get_ir_frame_data(3)\n",
    "\n",
    "\n",
    "def get_extrapolated_ir_frame(frame_2d, multiplier = 4, interpolation=cv2.INTER_LINEAR):\n",
    "    new_size = (frame_2d.shape[1] * multiplier, frame_2d.shape[0] * multiplier)\n",
    "    frame_2d_resized = cv2.resize(src=frame_2d, dsize=new_size, interpolation=interpolation)\n",
    "    return frame_2d_resized\n",
    "\n",
    "\n",
    "for multiplier in [1, 2, 4, 8]:\n",
    "    print(f\"Size multiplied by {multiplier} (linear and cubic) interpolation\")\n",
    "    frame_2d_rsized_linear = get_extrapolated_ir_frame(frame_2d, multiplier=multiplier, interpolation=cv2.INTER_LINEAR)\n",
    "    frame_2d_rsized_cubic = get_extrapolated_ir_frame(frame_2d, multiplier=multiplier, interpolation=cv2.INTER_CUBIC)\n",
    "    \n",
    "    plt.figure()\n",
    "    plt.imshow(frame_2d_rsized_linear)\n",
    "    plt.figure()\n",
    "    plt.imshow(frame_2d_rsized_cubic)\n",
    "    plt.show()\n",
    "\n"
   ]
  },
  {
   "cell_type": "code",
   "execution_count": null,
   "id": "crude-assignment",
   "metadata": {},
   "outputs": [],
   "source": []
  },
  {
   "cell_type": "code",
   "execution_count": null,
   "id": "fewer-learning",
   "metadata": {},
   "outputs": [],
   "source": []
  },
  {
   "cell_type": "code",
   "execution_count": null,
   "id": "drawn-treasury",
   "metadata": {},
   "outputs": [],
   "source": [
    "rgb_video_path = \"/media/przemek/data/Projects/ir_vision/data/data__24_03_2021__20_26_41/000__20_26_41/rgb.mjpeg\"\n",
    "print(f\"csv_file_path={csv_file_path}, rgb_video_path={rgb_video_path}\")\n"
   ]
  },
  {
   "cell_type": "code",
   "execution_count": null,
   "id": "unavailable-differential",
   "metadata": {},
   "outputs": [],
   "source": [
    "cap = cv2.VideoCapture(rgb_video_path)\n",
    "\n",
    "length = int(cap.get(cv2.CAP_PROP_FRAME_COUNT))\n",
    "print( length )"
   ]
  },
  {
   "cell_type": "code",
   "execution_count": null,
   "id": "disturbed-being",
   "metadata": {},
   "outputs": [],
   "source": [
    "\n",
    "rgb_video_cap = cv2.VideoCapture(rgb_video_path)\n",
    "if not rgb_video_cap.isOpened():\n",
    "    raise Exception(\"video open failed\")\n",
    "    \n",
    "    \n",
    "number_of_rgb_frames = 0\n",
    "while True:\n",
    "    flag, frame = rgb_video_cap.read()\n",
    "    if flag:\n",
    "        # The frame is ready and already captured\n",
    "        # cv2.imshow('video', frame)\n",
    "        number_of_rgb_frames += 1\n",
    "        # print(f\"Frame no {number_of_rgb_frames}\")\n",
    "        if number_of_rgb_frames % 50 == 0:\n",
    "            print(f\"Reading frame no {number_of_rgb_frames}\")\n",
    "    else:\n",
    "        print(\"Frames finished?\")\n",
    "        break\n",
    "        \n",
    "\n",
    "rgb_video_cap = cv2.VideoCapture(rgb_video_path)\n",
    "if not rgb_video_cap.isOpened():\n",
    "    raise Exception(\"video open failed\")\n",
    "\n",
    "\n",
    "rgb_frames_for_every_ir_frame = number_of_rgb_frames / number_of_ir_frames\n",
    "\n",
    "print(f\"Total RGB frames: {number_of_rgb_frames}. rgb_frames_for_every_ir_frame: {rgb_frames_for_every_ir_frame:.3f}\")\n"
   ]
  },
  {
   "cell_type": "code",
   "execution_count": null,
   "id": "expired-greece",
   "metadata": {},
   "outputs": [],
   "source": [
    "\n",
    "\n",
    "def get_rgb_frame_for_ir_frame(ir_frame_index):\n",
    "    global rgb_video_cap\n",
    "    rgb_frame_index = int(ir_frame_index * rgb_frames_for_every_ir_frame)\n",
    "    assert rgb_frame_index <  number_of_rgb_frames\n",
    "    \n",
    "    current_position = rgb_video_cap.get(cv2.CAP_PROP_POS_FRAMES)\n",
    "    print(f\"Preparing to read RGB frame no {rgb_frame_index}. Current position in video: {current_position}\")\n",
    "\n",
    "    if current_position > rgb_frame_index:\n",
    "        rgb_video_cap = cv2.VideoCapture(rgb_video_path)\n",
    "        if not rgb_video_cap.isOpened():\n",
    "            raise Exception(\"video open failed\")\n",
    "\n",
    "    frame = None\n",
    "    while rgb_video_cap.get(cv2.CAP_PROP_POS_FRAMES) != rgb_frame_index:\n",
    "        ret, frame = rgb_video_cap.read()\n",
    "        if not ret:\n",
    "            raise Exception(f\"Failed to read frame no {rgb_frame_index}\")\n",
    "    return frame\n",
    "\n",
    "\n",
    "# show some frames\n",
    "plt.figure()\n",
    "plt.imshow(get_rgb_frame_for_ir_frame(1))\n",
    "\n",
    "plt.figure()\n",
    "plt.imshow(get_rgb_frame_for_ir_frame(number_of_ir_frames // 2))"
   ]
  },
  {
   "cell_type": "code",
   "execution_count": null,
   "id": "visible-editing",
   "metadata": {
    "scrolled": false
   },
   "outputs": [],
   "source": [
    "for ir_frame_index in [22, 555, 666, 777, 888]:\n",
    "\n",
    "    ir_frame_2d = get_ir_frame_data(ir_frame_index)\n",
    "    ir_frame_2d_extrapolated = get_extrapolated_ir_frame(ir_frame_2d)\n",
    "    rgb_frame_2d = get_rgb_frame_for_ir_frame(ir_frame_index)\n",
    "\n",
    "    plt.figure()\n",
    "    plt.imshow(ir_frame_2d_extrapolated)\n",
    "\n",
    "\n",
    "    plt.figure()\n",
    "    plt.imshow(rgb_frame_2d)"
   ]
  },
  {
   "cell_type": "code",
   "execution_count": null,
   "id": "advised-while",
   "metadata": {},
   "outputs": [],
   "source": []
  }
 ],
 "metadata": {
  "kernelspec": {
   "display_name": "Python 3",
   "language": "python",
   "name": "python3"
  },
  "language_info": {
   "codemirror_mode": {
    "name": "ipython",
    "version": 3
   },
   "file_extension": ".py",
   "mimetype": "text/x-python",
   "name": "python",
   "nbconvert_exporter": "python",
   "pygments_lexer": "ipython3",
   "version": "3.7.5"
  }
 },
 "nbformat": 4,
 "nbformat_minor": 5
}
