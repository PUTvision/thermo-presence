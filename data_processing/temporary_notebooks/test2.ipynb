{
 "cells": [
  {
   "cell_type": "code",
   "execution_count": null,
   "id": "voluntary-chaos",
   "metadata": {},
   "outputs": [],
   "source": [
    "import os\n",
    "\n",
    "import numpy as np\n",
    "import cv2\n",
    "from matplotlib import pyplot as plt\n",
    "import importlib\n",
    "\n",
    "import config\n"
   ]
  },
  {
   "cell_type": "code",
   "execution_count": null,
   "id": "controlling-spice",
   "metadata": {},
   "outputs": [],
   "source": [
    "# if 0:\n",
    "#     print(\"2Hz\")\n",
    "#     csv_file_path = \"/home/przemek/Desktop/ir/000__01_16_26__2hz/ir.csv\"\n",
    "#     rgb_video_path = \"/home/przemek/Desktop/ir/000__01_16_26__2hz/rgb.mjpeg\"\n",
    "# else:\n",
    "#     print(\"16Hz\")\n",
    "#     csv_file_path = \"/home/przemek/Desktop/ir/000__01_07_34__16hz/ir.csv\"\n",
    "#     rgb_video_path = \"/home/przemek/Desktop/ir/000__01_07_34__16hz/rgb.mjpeg\"\n",
    "    \n",
    "\n",
    "    \n",
    "csv_file_path = \"/home/przemek/Desktop/ir/002__12_31_30_3_persons/ir.csv\"\n",
    "rgb_video_path = \"/home/przemek/Desktop/ir/002__12_31_30_3_persons/rgb.mjpeg\"\n",
    "specific_frame__video_position = 0.64\n",
    "\n",
    "\n",
    "# csv_file_path = \"/home/przemek/Desktop/ir/013__13_16_39_3_persons_3/ir.csv\"\n",
    "# rgb_video_path = \"/home/przemek/Desktop/ir/013__13_16_39_3_persons_3/rgb.mjpeg\"\n",
    "# specific_frame_index = int(0.288*number_of_ir_frames)\n",
    "\n",
    "\n",
    "csv_file_path = \"/home/przemek/Desktop/ir/018__13_37_10_up1/ir.csv\"\n",
    "rgb_video_path = \"/home/przemek/Desktop/ir/018__13_37_10_up1/rgb.mjpeg\"\n",
    "specific_frame__video_position = 0.803\n",
    "\n",
    "\n"
   ]
  },
  {
   "cell_type": "markdown",
   "id": "living-india",
   "metadata": {},
   "source": [
    "# Load IR data CSV"
   ]
  },
  {
   "cell_type": "code",
   "execution_count": null,
   "id": "korean-junior",
   "metadata": {},
   "outputs": [],
   "source": [
    "#csv_file_path = os.path.abspath(os.path.join('.', 'example_data', 'one_person_close.csv'))\n",
    "\n",
    "print(f\"csv_file_path={csv_file_path}\")\n",
    "\n",
    "with open(csv_file_path, 'r') as file:\n",
    "    lines = file.readlines()\n",
    "    \n",
    "lines = [x.strip() for x in lines] \n",
    "\n",
    "\n",
    "print(f\"{lines[0]}\\n {lines[1][:90]} \\n {lines[2][:90]}\")\n",
    "\n",
    "frame_lines = lines[1:]\n",
    "number_of_ir_frames = len(frame_lines)\n",
    "print(f\"Number of frames: {number_of_ir_frames}\")\n"
   ]
  },
  {
   "cell_type": "code",
   "execution_count": null,
   "id": "senior-genius",
   "metadata": {},
   "outputs": [],
   "source": [
    "specific_frame_index = int(specific_frame__video_position*number_of_ir_frames)\n",
    "some_ir_frame_indexes = []\n",
    "\n",
    "for i in range(10):\n",
    "    some_ir_frame_indexes.append(specific_frame_index + i)\n",
    "\n",
    "some_ir_frame_indexes += [specific_frame_index , 0, number_of_ir_frames//4, number_of_ir_frames//3, 2*number_of_ir_frames//3, \n",
    "                       number_of_ir_frames//2, number_of_ir_frames-1]\n"
   ]
  },
  {
   "cell_type": "code",
   "execution_count": null,
   "id": "boxed-vanilla",
   "metadata": {},
   "outputs": [],
   "source": [
    "def get_ir_frame_data(frame_index):\n",
    "    line_parts = frame_lines[frame_index].split(',')\n",
    "    frame_data_str = line_parts[2:] \n",
    "    frame_data_1d = [float(x) for x in frame_data_str]\n",
    "    frame_2d = np.reshape(frame_data_1d, config.IR_CAMERA_RESOLUTION)\n",
    "    return frame_2d\n"
   ]
  },
  {
   "cell_type": "code",
   "execution_count": null,
   "id": "explicit-bunny",
   "metadata": {},
   "outputs": [],
   "source": []
  },
  {
   "cell_type": "code",
   "execution_count": null,
   "id": "formal-highlight",
   "metadata": {},
   "outputs": [],
   "source": [
    "frame = get_ir_frame_data(some_ir_frame_indexes[0])\n",
    "\n",
    "min_temp = min(frame.reshape(-1))\n",
    "max_temp = max(frame.reshape(-1))\n",
    "print(f\"min_temp, max_temp = {min_temp, max_temp}\")\n",
    "\n",
    "\n",
    "video_zoom = 2\n",
    "zoomed_frame_size = (config.IR_CAMERA_RESOLUTION_Y * video_zoom, config.IR_CAMERA_RESOLUTION_X * video_zoom)\n",
    "zoomed_frame_size_cv = (zoomed_frame_size[1], zoomed_frame_size[0])\n",
    "        \n",
    "colormap = plt.get_cmap('inferno')  # default for imshow is 'viridis'\n",
    "\n",
    "\n",
    "frame_resized_not_cliped = cv2.resize(src=frame, dsize=zoomed_frame_size_cv, interpolation=cv2.INTER_CUBIC)\n",
    "min_temp = min(frame_resized_not_cliped.reshape(-1))\n",
    "max_temp = max(frame_resized_not_cliped.reshape(-1))\n",
    "frame_resized = np.clip(frame_resized_not_cliped, min_temp, max_temp)\n",
    "\n",
    "frame_resized_normalized = (frame_resized - min_temp) * (255 / (max_temp - min_temp))\n",
    "frame_resized_normalized_u8 = frame_resized_normalized.astype(np.uint8)\n",
    "heatmap_u8 = (colormap(frame_resized_normalized_u8) * 2**8).astype(np.uint8)[:, :, :3]\n",
    "\n",
    "\n",
    "plt.imshow(heatmap_u8)"
   ]
  },
  {
   "cell_type": "code",
   "execution_count": null,
   "id": "honey-jacket",
   "metadata": {},
   "outputs": [],
   "source": []
  },
  {
   "cell_type": "markdown",
   "id": "greater-typing",
   "metadata": {},
   "source": [
    "# Show some frames"
   ]
  },
  {
   "cell_type": "code",
   "execution_count": null,
   "id": "damaged-battery",
   "metadata": {
    "scrolled": false
   },
   "outputs": [],
   "source": [
    "for frame_index in some_ir_frame_indexes:\n",
    "    frame_2d = get_ir_frame_data(frame_index)\n",
    "    plt.figure()\n",
    "    plt.imshow(frame_2d)"
   ]
  },
  {
   "cell_type": "code",
   "execution_count": null,
   "id": "adequate-leisure",
   "metadata": {},
   "outputs": [],
   "source": []
  },
  {
   "cell_type": "markdown",
   "id": "olympic-offense",
   "metadata": {},
   "source": [
    "# Extrapolation of the frame\n"
   ]
  },
  {
   "cell_type": "code",
   "execution_count": null,
   "id": "distant-monroe",
   "metadata": {
    "scrolled": false
   },
   "outputs": [],
   "source": [
    "frame_index = some_ir_frame_indexes[0]\n",
    "frame_2d = get_ir_frame_data(frame_index)\n",
    "\n",
    "\n",
    "def get_extrapolated_ir_frame(frame_2d, multiplier = 4, interpolation=cv2.INTER_LINEAR):\n",
    "    new_size = (frame_2d.shape[1] * multiplier, frame_2d.shape[0] * multiplier)\n",
    "    frame_2d_resized = cv2.resize(src=frame_2d, dsize=new_size, interpolation=interpolation)\n",
    "    return frame_2d_resized\n",
    "\n",
    "\n",
    "for multiplier in [1, 2, 4, 8]:\n",
    "    print(f\"Size multiplied by {multiplier} (linear and cubic) interpolation\")\n",
    "    frame_2d_rsized_linear = get_extrapolated_ir_frame(frame_2d, multiplier=multiplier, interpolation=cv2.INTER_LINEAR)\n",
    "    frame_2d_rsized_cubic = get_extrapolated_ir_frame(frame_2d, multiplier=multiplier, interpolation=cv2.INTER_CUBIC)\n",
    "    \n",
    "    plt.figure()\n",
    "    plt.imshow(frame_2d_rsized_linear)\n",
    "    plt.figure()\n",
    "    plt.imshow(frame_2d_rsized_cubic)\n",
    "    plt.show()\n",
    "\n"
   ]
  },
  {
   "cell_type": "code",
   "execution_count": null,
   "id": "crude-assignment",
   "metadata": {},
   "outputs": [],
   "source": []
  },
  {
   "cell_type": "code",
   "execution_count": null,
   "id": "boring-stamp",
   "metadata": {},
   "outputs": [],
   "source": []
  },
  {
   "cell_type": "code",
   "execution_count": null,
   "id": "resident-synthetic",
   "metadata": {},
   "outputs": [],
   "source": [
    "#rgb_video_path = \"/media/przemek/data/Projects/ir_vision/data/data__24_03_2021__20_26_41/000__20_26_41/rgb.mjpeg\"\n",
    "print(f\"rgb_video_path={rgb_video_path}\")\n"
   ]
  },
  {
   "cell_type": "code",
   "execution_count": null,
   "id": "foreign-swiss",
   "metadata": {},
   "outputs": [],
   "source": [
    "cap = cv2.VideoCapture(rgb_video_path)\n",
    "\n",
    "length = int(cap.get(cv2.CAP_PROP_FRAME_COUNT))\n",
    "print( length )"
   ]
  },
  {
   "cell_type": "code",
   "execution_count": null,
   "id": "delayed-genealogy",
   "metadata": {},
   "outputs": [],
   "source": [
    "\n",
    "rgb_video_cap = cv2.VideoCapture(rgb_video_path)\n",
    "if not rgb_video_cap.isOpened():\n",
    "    raise Exception(\"video open failed\")\n",
    "    \n",
    "    \n",
    "number_of_rgb_frames = 0\n",
    "while True:\n",
    "    flag, frame = rgb_video_cap.read()\n",
    "    if flag:\n",
    "        # The frame is ready and already captured\n",
    "        # cv2.imshow('video', frame)\n",
    "        number_of_rgb_frames += 1\n",
    "        # print(f\"Frame no {number_of_rgb_frames}\")\n",
    "        if number_of_rgb_frames % 50 == 0:\n",
    "            print(f\"Reading frame no {number_of_rgb_frames}\")\n",
    "    else:\n",
    "        print(\"Frames finished?\")\n",
    "        break\n",
    "        \n",
    "\n",
    "rgb_video_cap = cv2.VideoCapture(rgb_video_path)\n",
    "if not rgb_video_cap.isOpened():\n",
    "    raise Exception(\"video open failed\")\n",
    "\n",
    "\n",
    "rgb_frames_for_every_ir_frame = number_of_rgb_frames / number_of_ir_frames\n",
    "\n",
    "print(f\"Total RGB frames: {number_of_rgb_frames}. rgb_frames_for_every_ir_frame: {rgb_frames_for_every_ir_frame:.3f}\")\n"
   ]
  },
  {
   "cell_type": "code",
   "execution_count": null,
   "id": "environmental-denmark",
   "metadata": {},
   "outputs": [],
   "source": [
    "\n",
    "\n",
    "def get_rgb_frame_for_ir_frame(ir_frame_index):\n",
    "    global rgb_video_cap\n",
    "    rgb_frame_index = int(ir_frame_index * rgb_frames_for_every_ir_frame)\n",
    "    assert rgb_frame_index <  number_of_rgb_frames\n",
    "    \n",
    "    current_position = rgb_video_cap.get(cv2.CAP_PROP_POS_FRAMES)\n",
    "    print(f\"Preparing to read RGB frame no {rgb_frame_index}. Current position in video: {current_position}\")\n",
    "\n",
    "    if current_position > rgb_frame_index:\n",
    "        rgb_video_cap = cv2.VideoCapture(rgb_video_path)\n",
    "        if not rgb_video_cap.isOpened():\n",
    "            raise Exception(\"video open failed\")\n",
    "\n",
    "    frame = None\n",
    "    while True:\n",
    "        frame_pos = rgb_video_cap.get(cv2.CAP_PROP_POS_FRAMES)\n",
    "        ret, frame = rgb_video_cap.read()\n",
    "        if not ret:\n",
    "            raise Exception(f\"Failed to read frame no {rgb_frame_index}\")\n",
    "        if frame_pos == rgb_frame_index:\n",
    "            return frame\n",
    "    raise Exception(\"Something went wrong durin reading RGB frame\")\n",
    "\n",
    "\n",
    "# show some frames\n",
    "plt.figure()\n",
    "plt.imshow(get_rgb_frame_for_ir_frame(1))\n",
    "\n",
    "plt.figure()\n",
    "plt.imshow(get_rgb_frame_for_ir_frame(number_of_ir_frames // 2))"
   ]
  },
  {
   "cell_type": "code",
   "execution_count": null,
   "id": "under-finding",
   "metadata": {
    "scrolled": false
   },
   "outputs": [],
   "source": [
    "for ir_frame_index in some_ir_frame_indexes:\n",
    "    print(f\"IR frame: {ir_frame_index}\")\n",
    "    ir_frame_2d = get_ir_frame_data(ir_frame_index)\n",
    "    ir_frame_2d_extrapolated = get_extrapolated_ir_frame(ir_frame_2d)\n",
    "    rgb_frame_2d = get_rgb_frame_for_ir_frame(ir_frame_index)\n",
    "\n",
    "    plt.figure()\n",
    "    plt.imshow(ir_frame_2d_extrapolated)\n",
    "\n",
    "\n",
    "    plt.figure()\n",
    "    plt.imshow(rgb_frame_2d)"
   ]
  },
  {
   "cell_type": "code",
   "execution_count": null,
   "id": "whole-cooper",
   "metadata": {},
   "outputs": [],
   "source": []
  }
 ],
 "metadata": {
  "kernelspec": {
   "display_name": "Python 3",
   "language": "python",
   "name": "python3"
  },
  "language_info": {
   "codemirror_mode": {
    "name": "ipython",
    "version": 3
   },
   "file_extension": ".py",
   "mimetype": "text/x-python",
   "name": "python",
   "nbconvert_exporter": "python",
   "pygments_lexer": "ipython3",
   "version": "3.7.9"
  }
 },
 "nbformat": 4,
 "nbformat_minor": 5
}
