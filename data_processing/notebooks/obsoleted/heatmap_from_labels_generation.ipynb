{
 "cells": [
  {
   "cell_type": "code",
   "execution_count": null,
   "id": "4aee21a7",
   "metadata": {},
   "outputs": [],
   "source": [
    "import os\n",
    "import sys\n",
    "\n",
    "import numpy as np\n",
    "import cv2\n",
    "from matplotlib import pyplot as plt\n",
    "import importlib\n",
    "\n",
    "sys.path.append(\"../\")\n",
    "\n",
    "import config\n",
    "\n",
    "from model_training import training_data_loader"
   ]
  },
  {
   "cell_type": "code",
   "execution_count": null,
   "id": "0bea7304",
   "metadata": {},
   "outputs": [],
   "source": [
    "training_data = training_data_loader.load_data_for_labeled_batches(labeled_batch_dirs=training_data_loader.LABELED_BATCH_DIRS_1)\n",
    "average_number_of_persons = sum([len(fc) for fc in training_data.centre_points]) / len(training_data.centre_points)\n",
    "print(f\"Number of annotate frames: {len(training_data.centre_points)}, \"\n",
    "      f\"with average number of persons on a frame = {average_number_of_persons:.2f}\")"
   ]
  },
  {
   "cell_type": "code",
   "execution_count": null,
   "id": "dfe5af0b",
   "metadata": {},
   "outputs": [],
   "source": []
  },
  {
   "cell_type": "code",
   "execution_count": null,
   "id": "2e346fe1",
   "metadata": {},
   "outputs": [],
   "source": [
    "frame_index = 0"
   ]
  },
  {
   "cell_type": "code",
   "execution_count": null,
   "id": "85634eb8",
   "metadata": {},
   "outputs": [],
   "source": [
    "# training_data.flip_vertically()\n",
    "# training_data.flip_horizontally()"
   ]
  },
  {
   "cell_type": "code",
   "execution_count": null,
   "id": "82ac3534",
   "metadata": {},
   "outputs": [],
   "source": [
    "ir_frame = training_data.normalized_ir_data[frame_index]\n",
    "plt.imshow(ir_frame)"
   ]
  },
  {
   "cell_type": "code",
   "execution_count": null,
   "id": "ea230a47",
   "metadata": {},
   "outputs": [],
   "source": [
    "# ir_frame\n",
    "list(range(1, 2))"
   ]
  },
  {
   "cell_type": "code",
   "execution_count": null,
   "id": "7d0a4045",
   "metadata": {},
   "outputs": [],
   "source": [
    "\n",
    "\n"
   ]
  },
  {
   "cell_type": "code",
   "execution_count": null,
   "id": "51de5a52",
   "metadata": {},
   "outputs": [],
   "source": [
    "def draw_airbrush_circle(img, centre, radius):\n",
    "    for x in range(max(0, round(centre[0]-radius)), min(img.shape[0], round(centre[0]+radius+1))):\n",
    "        for y in range(max(0, round(centre[1]-radius)), min(img.shape[1], round(centre[1]+radius+1))):\n",
    "            point = (x, y)\n",
    "            distance_to_centre = cv2.norm((centre[0] - x, centre[1] - y))\n",
    "            if distance_to_centre > radius:\n",
    "                continue\n",
    "            img[point] = max(img[point], 1 - distance_to_centre / radius)\n",
    "    \n",
    "    \n",
    "def get_img_reconstructed_from_labels(frame_index):\n",
    "    centre_points = training_data.centre_points[frame_index]\n",
    "\n",
    "    SCALE_FACTOR = 5\n",
    "    img_reconstructed_scaled = np.zeros(shape=(config.IR_CAMERA_RESOLUTION[0] * SCALE_FACTOR, \n",
    "                                               config.IR_CAMERA_RESOLUTION[1] * SCALE_FACTOR))\n",
    "\n",
    "    for centre_point in centre_points:\n",
    "        centre_point = centre_point[::-1]  # reversed x and y in \n",
    "\n",
    "        draw_airbrush_circle(img=img_reconstructed_scaled, \n",
    "                             centre=[p*SCALE_FACTOR for p in centre_point], \n",
    "                             radius=int(5*SCALE_FACTOR))\n",
    "\n",
    "    # plt.imshow(img_reconstructed_scaled)\n",
    "\n",
    "    img_reconstructed_original_size = cv2.resize(\n",
    "        src=img_reconstructed_scaled, \n",
    "        dsize=config.IR_CAMERA_RESOLUTION_XY, \n",
    "        interpolation=cv2.INTER_LINEAR)\n",
    "        \n",
    "    plt.imshow(img_reconstructed_original_size)\n",
    "    return img_reconstructed_original_size\n",
    "        \n",
    "\n",
    "img = get_img_reconstructed_from_labels(0)"
   ]
  },
  {
   "cell_type": "code",
   "execution_count": null,
   "id": "946b6db8",
   "metadata": {},
   "outputs": [],
   "source": [
    "\n",
    "\n",
    "\n",
    "    \n"
   ]
  },
  {
   "cell_type": "code",
   "execution_count": null,
   "id": "1fe20ec8",
   "metadata": {},
   "outputs": [],
   "source": [
    "img16 = (img * 8).astype('int')\n",
    "plt.imshow(img16)\n",
    "img16"
   ]
  },
  {
   "cell_type": "code",
   "execution_count": null,
   "id": "ef5de743",
   "metadata": {},
   "outputs": [],
   "source": []
  },
  {
   "cell_type": "code",
   "execution_count": null,
   "id": "b2ce7da2",
   "metadata": {},
   "outputs": [],
   "source": []
  }
 ],
 "metadata": {
  "kernelspec": {
   "display_name": "Python 3",
   "language": "python",
   "name": "python3"
  },
  "language_info": {
   "codemirror_mode": {
    "name": "ipython",
    "version": 3
   },
   "file_extension": ".py",
   "mimetype": "text/x-python",
   "name": "python",
   "nbconvert_exporter": "python",
   "pygments_lexer": "ipython3",
   "version": "3.7.9"
  }
 },
 "nbformat": 4,
 "nbformat_minor": 5
}
