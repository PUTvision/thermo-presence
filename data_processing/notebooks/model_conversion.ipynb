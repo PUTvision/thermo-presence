{
 "cells": [
  {
   "cell_type": "code",
   "execution_count": 1,
   "id": "8f1960ea",
   "metadata": {},
   "outputs": [
    {
     "data": {
      "text/plain": [
       "'1.6.0'"
      ]
     },
     "execution_count": 1,
     "metadata": {},
     "output_type": "execute_result"
    }
   ],
   "source": [
    "import os\n",
    "import numpy as np\n",
    "import matplotlib.pyplot as plt\n",
    "\n",
    "import torch\n",
    "from torch import nn\n",
    "import torch.nn.functional as F\n",
    "\n",
    "from typing import Tuple\n",
    "\n",
    "torch.__version__"
   ]
  },
  {
   "cell_type": "code",
   "execution_count": 2,
   "id": "191b5b5f",
   "metadata": {},
   "outputs": [
    {
     "name": "stdout",
     "output_type": "stream",
     "text": [
      "mkdir: cannot create directory ‘models’: File exists\r\n"
     ]
    }
   ],
   "source": [
    "!mkdir models"
   ]
  },
  {
   "cell_type": "code",
   "execution_count": 3,
   "id": "4bd22017",
   "metadata": {},
   "outputs": [],
   "source": [
    "# from config import IR_CAMERA_RESOLUTION, TEMPERATURE_NORMALIZATION__MIN, TEMPERATURE_NORMALIZATION__MAX\n",
    "IR_CAMERA_RESOLUTION_X = 32\n",
    "IR_CAMERA_RESOLUTION_Y = 24\n",
    "\n",
    "IR_CAMERA_RESOLUTION = (IR_CAMERA_RESOLUTION_Y, IR_CAMERA_RESOLUTION_X)\n",
    "\n",
    "# for frames normalization\n",
    "TEMPERATURE_NORMALIZATION__MIN = 20\n",
    "TEMPERATURE_NORMALIZATION__MAX = 35"
   ]
  },
  {
   "cell_type": "code",
   "execution_count": 4,
   "id": "f93f1321",
   "metadata": {},
   "outputs": [],
   "source": [
    "class ConvTranspose2dReplacement(nn.Sequential):\n",
    "    def __init__(self, in_channels, out_channels, kernel_size, stride, padding, output_padding):\n",
    "        super().__init__()\n",
    "        # self.up = nn.Upsample(size=(2,2))\n",
    "        self.up = nn.Upsample(scale_factor=stride)\n",
    "        \n",
    "        self.conv = nn.Conv2d(in_channels=in_channels,\n",
    "                              out_channels=out_channels, padding=padding, kernel_size=kernel_size)\n",
    "        \n",
    "    def forward(self, x) -> torch.Tensor:\n",
    "        x = self.up(x)\n",
    "        x = self.conv(x)\n",
    "        return x\n",
    "    \n",
    "\n",
    "class AutoEncoder(torch.nn.Module):\n",
    "    def __init__(self, in_channels, out_channels):\n",
    "        super().__init__()\n",
    "        self.encoder = Encoder(in_channels)\n",
    "        self.conv = DoubleConv(32, 64, 3, 1)\n",
    "        self.upconv1 = ExpandBlock(64, 32, 3, 1)\n",
    "        self.upconv2 = ExpandBlock(32, 16, 3, 1)\n",
    "        self.out_conv = nn.Conv2d(16, out_channels, kernel_size=1)\n",
    "        \n",
    "    def forward(self, x):\n",
    "        # downsampling part\n",
    "        x, conv2, conv1 = self.encoder(x)\n",
    "        x = self.conv(x)\n",
    "        x = self.upconv1(x, conv2)\n",
    "        x = self.upconv2(x, conv1)\n",
    "        x = self.out_conv(x)\n",
    "\n",
    "        x = x[:, 0, :, :]  # get rid of one dimension\n",
    "        return x\n",
    "\n",
    "\n",
    "class ExpandBlock(nn.Sequential):\n",
    "    def __init__(self, in_channels: int, out_channels: int, kernel_size: int, padding: int):\n",
    "        super().__init__()\n",
    "        #self.conv_transpose = nn.ConvTranspose2d(\n",
    "        self.conv_transpose = ConvTranspose2dReplacement(\n",
    "            in_channels=in_channels, out_channels=in_channels // 2, kernel_size=3, stride=2, padding=1, output_padding=1\n",
    "        )\n",
    "        self.conv1 = nn.Conv2d(in_channels, out_channels, kernel_size, padding=padding)\n",
    "        self.bn1 = nn.BatchNorm2d(out_channels)\n",
    "        self.conv2 = nn.Conv2d(out_channels, out_channels, kernel_size, padding=padding)\n",
    "        self.bn2 = nn.BatchNorm2d(out_channels)\n",
    "        self.relu = nn.ReLU(inplace=True)\n",
    "        \n",
    "    def forward(self, x: torch.Tensor, encoder_features: torch.Tensor) -> torch.Tensor:\n",
    "        x = self.conv_transpose(x)\n",
    "        x = torch.cat((x, encoder_features), dim=1)\n",
    "        x = self.conv1(x)\n",
    "        x = self.bn1(x)\n",
    "        x = self.relu(x)\n",
    "        x = self.conv2(x)\n",
    "        x = self.bn2(x)\n",
    "        x = self.relu(x)\n",
    "        return x\n",
    "\n",
    "\n",
    "class Encoder(nn.Module):\n",
    "    def __init__(self, in_channels: int):\n",
    "        super().__init__()\n",
    "        self.conv1 = ContractBlock(in_channels, 16, 3, 1)\n",
    "        self.conv2 = ContractBlock(16, 32, 3, 1)\n",
    "    def forward(self, x: torch.Tensor) -> Tuple[torch.Tensor, torch.Tensor, torch.Tensor]:\n",
    "        x, conv1 = self.conv1(x)\n",
    "        x, conv2 = self.conv2(x)\n",
    "        return x, conv2, conv1\n",
    "    def forward_simple(self, x: torch.Tensor) -> torch.Tensor:\n",
    "        x = self.input_conv(x)\n",
    "        x = self.conv1(x)\n",
    "        x = self.conv2(x)\n",
    "        return x\n",
    "\n",
    "\n",
    "class ContractBlock(nn.Module):\n",
    "    def __init__(self, in_channels, out_channels, kernel_size, padding):\n",
    "        super().__init__()\n",
    "        self.conv = DoubleConv(in_channels, out_channels, kernel_size, padding=padding)\n",
    "        self.pool = nn.MaxPool2d(kernel_size=2, stride=2)\n",
    "    def forward(self, x: torch.Tensor) -> Tuple[torch.Tensor, torch.Tensor]:\n",
    "        features = self.conv(x)\n",
    "        x = self.pool(features)\n",
    "        return x, features\n",
    "\n",
    "\n",
    "class DoubleConv(nn.Sequential):\n",
    "    def __init__(self, in_channels: int, out_channels: int, kernel_size: int, padding: int = 0):\n",
    "        super().__init__(\n",
    "            nn.Conv2d(in_channels, out_channels, kernel_size=kernel_size, stride=1, padding=padding),\n",
    "            nn.BatchNorm2d(out_channels),\n",
    "            nn.ReLU(inplace=True),\n",
    "            nn.Conv2d(out_channels, out_channels, kernel_size=kernel_size, stride=1, padding=padding),\n",
    "            nn.BatchNorm2d(out_channels),\n",
    "            nn.ReLU(inplace=True),\n",
    "        )\n",
    "\n",
    "\n",
    "\n",
    "class FrameProcessor:\n",
    "    def __init__(self, model_path: str):\n",
    "        self.latest_output_frame = None\n",
    "        self.sum_of_values_for_one_person = 52\n",
    "        #self.model = UNET(1, 1).double()\n",
    "        self.model = AutoEncoder(1, 1).double()\n",
    "\n",
    "        self.model.load_state_dict(torch.load(model_path))\n",
    "        self.model.eval()\n",
    "        self.model.train(False)\n",
    "\n",
    "    def process_frame(self, raw_frame):\n",
    "        frame_2d = np.reshape(raw_frame, IR_CAMERA_RESOLUTION)\n",
    "\n",
    "        frame_normalized = (frame_2d - TEMPERATURE_NORMALIZATION__MIN) * \\\n",
    "                           (1 / (TEMPERATURE_NORMALIZATION__MAX - TEMPERATURE_NORMALIZATION__MIN))\n",
    "        frame_for_model = torch.tensor(frame_normalized)[np.newaxis, :, :][np.newaxis, :, :, :]\n",
    "        with torch.no_grad():\n",
    "            model_out_frame = self.model(frame_for_model)[0]\n",
    "        self.latest_output_frame = model_out_frame.numpy()\n",
    "        return self.latest_output_frame\n",
    "\n",
    "    def get_people_count_on_latest_frame(self):\n",
    "        if self.latest_output_frame is None:\n",
    "            return -1\n",
    "        return np.sum(self.latest_output_frame) / self.sum_of_values_for_one_person"
   ]
  },
  {
   "cell_type": "code",
   "execution_count": 5,
   "id": "13c92fe9",
   "metadata": {
    "scrolled": true
   },
   "outputs": [
    {
     "name": "stdout",
     "output_type": "stream",
     "text": [
      "1.4187745022226106\n"
     ]
    },
    {
     "data": {
      "image/png": "[encoded data removed]",
      "text/plain": [
       "<Figure size 432x288 with 1 Axes>"
      ]
     },
     "metadata": {
      "needs_background": "light"
     },
     "output_type": "display_data"
    }
   ],
   "source": [
    "model_path = './models/model_with_batchnorm_no_conv2d'\n",
    "\n",
    "fp = FrameProcessor(model_path)\n",
    "raw_frame = np.array([26.30,25.40,24.62,24.32,23.96,24.13,24.02,23.67,23.98,24.12,23.89,23.96,24.26,23.89,24.10,24.15,24.16,23.91,24.30,24.62,24.57,24.73,24.86,24.35,24.54,24.76,25.17,24.54,24.62,24.49,24.64,24.72,24.94,25.28,24.57,25.03,24.21,24.33,23.74,24.34,24.12,24.20,24.01,24.31,24.15,24.42,24.14,24.20,24.32,24.28,24.25,24.69,24.66,25.09,25.00,25.21,24.49,24.95,24.66,24.98,25.36,25.47,24.80,25.06,25.55,25.09,26.00,26.18,24.42,23.54,23.89,23.94,24.17,23.78,24.33,23.90,24.26,24.18,24.32,24.03,24.32,23.96,24.38,24.50,26.70,27.40,27.41,27.27,25.65,25.27,25.30,24.98,25.42,24.89,25.21,25.87,25.52,\n",
    "                          25.90,26.28,26.04,24.06,24.37,24.00,24.23,23.92,24.04,24.41,24.46,24.30,24.51,24.62,24.35,24.12,24.29,24.15,24.53,28.01,28.55,28.44,28.22,25.69,25.75,25.12,25.37,25.12,25.68,25.49,24.66,26.08,26.11,27.20,25.16,24.86,24.53,24.05,24.05,24.25,24.31,24.10,24.37,24.56,24.24,24.22,24.13,24.48,24.38,24.39,24.77,28.24,28.71,28.54,28.01,26.94,26.82,25.83,25.53,25.25,25.18,25.11,25.25,25.66,26.08,25.53,25.00,24.79,25.03,24.30,24.13,24.43,24.37,24.14,24.36,24.16,24.19,\n",
    "                          24.25,24.44,24.24,24.25,24.21,24.85,28.01,28.34,28.12,27.89,26.98,28.14,26.41,25.86,25.07,25.78,24.80,25.27,26.23,25.72,24.81,24.51,25.44,24.68,24.74,24.50,24.68,24.29,24.09,24.39,24.23,24.17,24.30,24.32,24.29,24.60,24.40,24.49,26.57,27.82,28.14,27.34,26.90,27.69,26.14,25.33,25.38,25.06,24.48,24.77,26.18,26.82,24.87,24.96,25.49,25.17,24.40,25.13,24.25,25.18,24.17,24.11,24.49,24.18,24.35,24.49,24.33,24.53,24.51,24.74,26.17,27.09,27.33,26.04,26.09,26.34,25.47,25.21,24.75,24.56,24.49,25.30,26.54,26.63,24.94,25.41,25.32,24.74,25.46,25.40,27.16,25.78,26.40,24.17,24.26,24.28,24.38,\n",
    "                          24.29,24.43,24.62,24.58,24.62,25.09,25.15,25.16,24.91,24.54,24.51,24.49,24.58,24.63,24.68,24.95,24.84,26.81,27.32,25.08,25.07,25.40,25.34,26.05,27.11,27.12,28.91,25.48,26.05,24.26,24.44,24.60,24.49,24.58,24.66,24.62,24.76,24.23,24.54,24.13,24.28,24.50,24.55,24.67,24.48,24.67,24.53,24.29,25.18,26.62,27.28,25.30,25.43,25.79,25.55,26.41,27.44,28.50,29.07,27.70,25.46,24.76,24.37,24.78,24.71,24.71,24.68,24.82,24.42,24.18,23.88,24.17,24.42,24.78,24.77,24.51,\n",
    "                          24.43,24.75,24.35,25.17,24.62,26.31,27.40,25.72,25.93,25.43,25.42,27.39,27.29,28.52,28.17,26.92,26.39,24.81,24.85,24.49,24.57,24.76,24.69,24.43,24.32,23.96,24.09,24.06,24.61,24.59,24.72,24.72,24.28,24.38,24.40,24.65,25.14,25.81,25.71,25.59,25.74,25.27,25.78,26.65,27.84,27.82,27.98,25.83,25.94,24.86,24.90,24.45,24.64,24.83,24.55,24.52,24.44,24.35,24.32,24.44,24.51,24.78,24.32,24.63,24.85,24.75,24.55,24.79,24.73,25.85,25.57,25.36,25.60,25.39,25.37,26.59,25.84,28.31,27.04,25.86,24.87,24.95,24.89,24.59,24.96,24.70,24.90,24.66,24.62,24.29,24.46,24.55,24.51,24.52,24.57,24.42,24.81,\n",
    "                          24.63,24.63,24.67,24.87,25.46,25.05,25.19,25.09,25.14,25.17,25.19,25.73,26.17,25.72,25.22,25.33,25.07,24.83,25.12,24.92,25.15,24.74,24.93,24.85,25.22,24.73,24.94,24.65,24.97,24.63,24.85,24.70,24.67,24.77,24.69,25.17,24.88,25.76,25.40,25.35,25.39,25.33,25.68,25.47,25.82,25.54,25.23,25.40,24.99,25.17,25.04,25.26,25.05,25.13,25.17,24.91,24.99,25.36,24.96,25.15,24.90,24.81,24.62,24.97,24.47,25.01,24.54,25.29,26.57,25.80,26.06,25.54,27.46,26.74,25.75,25.52,\n",
    "                          25.11,25.13,25.28,25.50,25.31,25.43,25.15,25.49,25.30,25.14,24.98,25.01,25.28,25.03,25.04,24.97,25.05,24.93,25.05,24.65,24.69,24.56,25.15,25.40,26.88,26.72,25.88,26.11,27.62,27.41,25.54,25.57,25.48,25.37,25.45,25.44,25.64,25.62,25.62,25.55,25.12,25.32,24.53,24.95,25.11,25.23,25.20,25.19,24.97,24.99,24.98,24.88,24.79,25.04,24.98,25.18,27.10,26.77,26.94,26.84,29.03,28.50,26.17,25.22,25.72,25.36,25.69,25.70,25.62,25.62,26.09,25.74,25.48,25.22,24.93,24.73,\n",
    "                          24.96,25.17,25.48,25.34,25.40,25.25,24.78,24.93,25.20,24.62,25.33,25.04,26.88,27.34,27.59,28.39,29.27,28.78,25.72,25.85,25.38,25.67,25.49,25.41,25.82,25.75,26.16,25.85,25.45,25.30,24.62,24.80,25.18,25.45,25.04,25.55,24.91,25.39,25.01,24.99,25.17,25.25,24.58,24.80,27.64,27.09,27.18,27.96,27.94,27.12,25.31,25.52,26.18,25.46,25.52,25.65,25.70,25.92,25.98,25.79,25.72,25.17,24.68,25.21,25.81,25.36,25.26,25.17,25.26,24.71,24.90,24.65,25.05,24.69,24.88,24.96,26.91,27.62,27.37,27.54,26.78,26.63,25.92,26.13,25.69,26.03,25.89,25.60,25.45,25.69,25.87,25.65,25.48,25.41,24.58,25.04,25.57,\n",
    "                          25.62,25.32,24.97,24.99,25.05,24.94,25.18,24.94,25.19,25.00,25.65,27.27,25.84,26.61,26.67,27.08,25.93,25.68,25.48,25.85,25.53,26.04,25.74,26.05,25.46,25.65,25.39,25.72,25.60,25.83,25.77,26.02,26.23,25.12,25.31,25.49,25.31,25.32,25.28,25.29,25.52,25.61,25.92,27.54,27.43,26.99,27.30,26.67,26.24,26.08,26.16,25.60,25.32,25.40,25.58,25.31,25.52,25.60,25.67,25.09,25.38,25.73,26.24,25.78,25.92,25.74,25.94,25.08,25.43,24.95,25.63,25.23,25.43,25.33,25.69])\n",
    "\n",
    "pf = fp.process_frame(raw_frame)\n",
    "plt.imshow(pf);\n",
    "\n",
    "print(fp.get_people_count_on_latest_frame())"
   ]
  },
  {
   "cell_type": "code",
   "execution_count": 6,
   "id": "7d479178",
   "metadata": {},
   "outputs": [
    {
     "data": {
      "text/plain": [
       "(1, 1, 24, 32)"
      ]
     },
     "execution_count": 6,
     "metadata": {},
     "output_type": "execute_result"
    }
   ],
   "source": [
    "frame_2d = np.reshape(raw_frame, IR_CAMERA_RESOLUTION)\n",
    "frame_normalized = (frame_2d - TEMPERATURE_NORMALIZATION__MIN) * \\\n",
    "                           (1 / (TEMPERATURE_NORMALIZATION__MAX - TEMPERATURE_NORMALIZATION__MIN))\n",
    "frame_for_model = frame_normalized[np.newaxis, :, :][np.newaxis, :, :, :]\n",
    "frame_for_model.shape"
   ]
  },
  {
   "cell_type": "markdown",
   "id": "bf02d931",
   "metadata": {},
   "source": [
    "# ONNX\n",
    "\n",
    "## Convert"
   ]
  },
  {
   "cell_type": "code",
   "execution_count": 7,
   "id": "3c6eca38",
   "metadata": {},
   "outputs": [],
   "source": [
    "import torch.onnx"
   ]
  },
  {
   "cell_type": "code",
   "execution_count": 8,
   "id": "df92c602",
   "metadata": {},
   "outputs": [
    {
     "data": {
      "text/plain": [
       "AutoEncoder(\n",
       "  (encoder): Encoder(\n",
       "    (conv1): ContractBlock(\n",
       "      (conv): DoubleConv(\n",
       "        (0): Conv2d(1, 16, kernel_size=(3, 3), stride=(1, 1), padding=(1, 1))\n",
       "        (1): BatchNorm2d(16, eps=1e-05, momentum=0.1, affine=True, track_running_stats=True)\n",
       "        (2): ReLU(inplace=True)\n",
       "        (3): Conv2d(16, 16, kernel_size=(3, 3), stride=(1, 1), padding=(1, 1))\n",
       "        (4): BatchNorm2d(16, eps=1e-05, momentum=0.1, affine=True, track_running_stats=True)\n",
       "        (5): ReLU(inplace=True)\n",
       "      )\n",
       "      (pool): MaxPool2d(kernel_size=2, stride=2, padding=0, dilation=1, ceil_mode=False)\n",
       "    )\n",
       "    (conv2): ContractBlock(\n",
       "      (conv): DoubleConv(\n",
       "        (0): Conv2d(16, 32, kernel_size=(3, 3), stride=(1, 1), padding=(1, 1))\n",
       "        (1): BatchNorm2d(32, eps=1e-05, momentum=0.1, affine=True, track_running_stats=True)\n",
       "        (2): ReLU(inplace=True)\n",
       "        (3): Conv2d(32, 32, kernel_size=(3, 3), stride=(1, 1), padding=(1, 1))\n",
       "        (4): BatchNorm2d(32, eps=1e-05, momentum=0.1, affine=True, track_running_stats=True)\n",
       "        (5): ReLU(inplace=True)\n",
       "      )\n",
       "      (pool): MaxPool2d(kernel_size=2, stride=2, padding=0, dilation=1, ceil_mode=False)\n",
       "    )\n",
       "  )\n",
       "  (conv): DoubleConv(\n",
       "    (0): Conv2d(32, 64, kernel_size=(3, 3), stride=(1, 1), padding=(1, 1))\n",
       "    (1): BatchNorm2d(64, eps=1e-05, momentum=0.1, affine=True, track_running_stats=True)\n",
       "    (2): ReLU(inplace=True)\n",
       "    (3): Conv2d(64, 64, kernel_size=(3, 3), stride=(1, 1), padding=(1, 1))\n",
       "    (4): BatchNorm2d(64, eps=1e-05, momentum=0.1, affine=True, track_running_stats=True)\n",
       "    (5): ReLU(inplace=True)\n",
       "  )\n",
       "  (upconv1): ExpandBlock(\n",
       "    (conv_transpose): ConvTranspose2dReplacement(\n",
       "      (up): Upsample(scale_factor=2.0, mode=nearest)\n",
       "      (conv): Conv2d(64, 32, kernel_size=(3, 3), stride=(1, 1), padding=(1, 1))\n",
       "    )\n",
       "    (conv1): Conv2d(64, 32, kernel_size=(3, 3), stride=(1, 1), padding=(1, 1))\n",
       "    (bn1): BatchNorm2d(32, eps=1e-05, momentum=0.1, affine=True, track_running_stats=True)\n",
       "    (conv2): Conv2d(32, 32, kernel_size=(3, 3), stride=(1, 1), padding=(1, 1))\n",
       "    (bn2): BatchNorm2d(32, eps=1e-05, momentum=0.1, affine=True, track_running_stats=True)\n",
       "    (relu): ReLU(inplace=True)\n",
       "  )\n",
       "  (upconv2): ExpandBlock(\n",
       "    (conv_transpose): ConvTranspose2dReplacement(\n",
       "      (up): Upsample(scale_factor=2.0, mode=nearest)\n",
       "      (conv): Conv2d(32, 16, kernel_size=(3, 3), stride=(1, 1), padding=(1, 1))\n",
       "    )\n",
       "    (conv1): Conv2d(32, 16, kernel_size=(3, 3), stride=(1, 1), padding=(1, 1))\n",
       "    (bn1): BatchNorm2d(16, eps=1e-05, momentum=0.1, affine=True, track_running_stats=True)\n",
       "    (conv2): Conv2d(16, 16, kernel_size=(3, 3), stride=(1, 1), padding=(1, 1))\n",
       "    (bn2): BatchNorm2d(16, eps=1e-05, momentum=0.1, affine=True, track_running_stats=True)\n",
       "    (relu): ReLU(inplace=True)\n",
       "  )\n",
       "  (out_conv): Conv2d(16, 1, kernel_size=(1, 1), stride=(1, 1))\n",
       ")"
      ]
     },
     "execution_count": 8,
     "metadata": {},
     "output_type": "execute_result"
    }
   ],
   "source": [
    "model = AutoEncoder(1, 1)\n",
    "\n",
    "model.load_state_dict(torch.load(model_path))\n",
    "model.eval()"
   ]
  },
  {
   "cell_type": "code",
   "execution_count": 9,
   "id": "dd9df933",
   "metadata": {},
   "outputs": [
    {
     "name": "stderr",
     "output_type": "stream",
     "text": [
      "/home/mateusz/miniconda3/envs/thermo/lib/python3.8/site-packages/torch/onnx/symbolic_helper.py:252: UserWarning: You are trying to export the model with onnx:Resize for ONNX opset version 10. This operator might cause results to not match the expected results by PyTorch.\n",
      "ONNX's Upsample/Resize operator did not match Pytorch's Interpolation until opset 11. Attributes to determine how to transform the input were added in onnx:Resize in opset 11 to support Pytorch's behavior (like coordinate_transformation_mode and nearest_mode).\n",
      "We recommend using opset 11 and above for models using this operator. \n",
      "  warnings.warn(\"You are trying to export the model with \" + onnx_op + \" for ONNX opset version \"\n"
     ]
    }
   ],
   "source": [
    "# Input to the model\n",
    "x = torch.randn(1, 1, 24, 32, requires_grad=True)\n",
    "torch_out = model(x)\n",
    "\n",
    "# Export the model\n",
    "torch.onnx.export(model,                     # model being run\n",
    "                  x,                         # model input (or a tuple for multiple inputs)\n",
    "                  f\"{model_path}.onnx\",      # where to save the model (can be a file or file-like object)\n",
    "                  export_params=True,        # store the trained parameter weights inside the model file\n",
    "                  opset_version=10,          # the ONNX version to export the model to\n",
    "                  do_constant_folding=True,  # whether to execute constant folding for optimization\n",
    "                  input_names = ['input'],   # the model's input names\n",
    "                  output_names = ['output'], # the model's output names\n",
    "                  dynamic_axes={'input' : {0 : 'batch_size'},    # variable length axes\n",
    "                                'output' : {0 : 'batch_size'}})"
   ]
  },
  {
   "cell_type": "markdown",
   "id": "92b206c7",
   "metadata": {},
   "source": [
    "## Check converted model"
   ]
  },
  {
   "cell_type": "code",
   "execution_count": 10,
   "id": "c2b16d9f",
   "metadata": {},
   "outputs": [],
   "source": [
    "import onnxruntime\n",
    "\n",
    "ort_session = onnxruntime.InferenceSession(f\"{model_path}.onnx\")"
   ]
  },
  {
   "cell_type": "code",
   "execution_count": 11,
   "id": "6bde610e",
   "metadata": {},
   "outputs": [
    {
     "data": {
      "text/plain": [
       "1.418774384718675"
      ]
     },
     "execution_count": 11,
     "metadata": {},
     "output_type": "execute_result"
    },
    {
     "data": {
      "image/png": "[encoded data removed]",
      "text/plain": [
       "<Figure size 432x288 with 1 Axes>"
      ]
     },
     "metadata": {
      "needs_background": "light"
     },
     "output_type": "display_data"
    }
   ],
   "source": [
    "# compute ONNX Runtime output prediction\n",
    "ort_inputs = {ort_session.get_inputs()[0].name: frame_for_model.astype(np.float32)}\n",
    "ort_outs = ort_session.run(None, ort_inputs)\n",
    "plt.imshow(ort_outs[0][0])\n",
    "\n",
    "np.sum(ort_outs) / 52.0"
   ]
  },
  {
   "cell_type": "markdown",
   "id": "8b34b330",
   "metadata": {},
   "source": [
    "# TensorFlow\n",
    "\n",
    "## Convert"
   ]
  },
  {
   "cell_type": "code",
   "execution_count": 12,
   "id": "66f30555",
   "metadata": {},
   "outputs": [
    {
     "name": "stdout",
     "output_type": "stream",
     "text": [
      "2021-12-08 16:59:42.459522: I tensorflow/stream_executor/platform/default/dso_loader.cc:53] Successfully opened dynamic library libcudart.so.11.0\n",
      "2021-12-08 16:59:43,592 - onnx-tf - INFO - Start converting onnx pb to tf saved model\n",
      "2021-12-08 16:59:43.607290: I tensorflow/stream_executor/platform/default/dso_loader.cc:53] Successfully opened dynamic library libcuda.so.1\n",
      "2021-12-08 16:59:43.643729: I tensorflow/stream_executor/cuda/cuda_gpu_executor.cc:937] successful NUMA node read from SysFS had negative value (-1), but there must be at least one NUMA node, so returning NUMA node zero\n",
      "2021-12-08 16:59:43.644123: I tensorflow/core/common_runtime/gpu/gpu_device.cc:1733] Found device 0 with properties: \n",
      "pciBusID: 0000:01:00.0 name: NVIDIA GeForce MX230 computeCapability: 6.1\n",
      "coreClock: 1.531GHz coreCount: 2 deviceMemorySize: 1.96GiB deviceMemoryBandwidth: 52.21GiB/s\n",
      "2021-12-08 16:59:43.644155: I tensorflow/stream_executor/platform/default/dso_loader.cc:53] Successfully opened dynamic library libcudart.so.11.0\n",
      "2021-12-08 16:59:43.647647: I tensorflow/stream_executor/platform/default/dso_loader.cc:53] Successfully opened dynamic library libcublas.so.11\n",
      "2021-12-08 16:59:43.647703: I tensorflow/stream_executor/platform/default/dso_loader.cc:53] Successfully opened dynamic library libcublasLt.so.11\n",
      "2021-12-08 16:59:43.649088: I tensorflow/stream_executor/platform/default/dso_loader.cc:53] Successfully opened dynamic library libcufft.so.10\n",
      "2021-12-08 16:59:43.649333: I tensorflow/stream_executor/platform/default/dso_loader.cc:53] Successfully opened dynamic library libcurand.so.10\n",
      "2021-12-08 16:59:43.649757: I tensorflow/stream_executor/platform/default/dso_loader.cc:53] Successfully opened dynamic library libcusolver.so.11\n",
      "2021-12-08 16:59:43.650533: I tensorflow/stream_executor/platform/default/dso_loader.cc:53] Successfully opened dynamic library libcusparse.so.11\n",
      "2021-12-08 16:59:43.650701: I tensorflow/stream_executor/platform/default/dso_loader.cc:53] Successfully opened dynamic library libcudnn.so.8\n",
      "2021-12-08 16:59:43.650821: I tensorflow/stream_executor/cuda/cuda_gpu_executor.cc:937] successful NUMA node read from SysFS had negative value (-1), but there must be at least one NUMA node, so returning NUMA node zero\n",
      "2021-12-08 16:59:43.651165: I tensorflow/stream_executor/cuda/cuda_gpu_executor.cc:937] successful NUMA node read from SysFS had negative value (-1), but there must be at least one NUMA node, so returning NUMA node zero\n",
      "2021-12-08 16:59:43.651386: I tensorflow/core/common_runtime/gpu/gpu_device.cc:1871] Adding visible gpu devices: 0\n",
      "2021-12-08 16:59:43.651630: I tensorflow/core/platform/cpu_feature_guard.cc:142] This TensorFlow binary is optimized with oneAPI Deep Neural Network Library (oneDNN) to use the following CPU instructions in performance-critical operations:  AVX2 FMA\n",
      "To enable them in other operations, rebuild TensorFlow with the appropriate compiler flags.\n",
      "2021-12-08 16:59:43.652089: I tensorflow/stream_executor/cuda/cuda_gpu_executor.cc:937] successful NUMA node read from SysFS had negative value (-1), but there must be at least one NUMA node, so returning NUMA node zero\n",
      "2021-12-08 16:59:43.652456: I tensorflow/core/common_runtime/gpu/gpu_device.cc:1733] Found device 0 with properties: \n",
      "pciBusID: 0000:01:00.0 name: NVIDIA GeForce MX230 computeCapability: 6.1\n",
      "coreClock: 1.531GHz coreCount: 2 deviceMemorySize: 1.96GiB deviceMemoryBandwidth: 52.21GiB/s\n",
      "2021-12-08 16:59:43.652529: I tensorflow/stream_executor/cuda/cuda_gpu_executor.cc:937] successful NUMA node read from SysFS had negative value (-1), but there must be at least one NUMA node, so returning NUMA node zero\n",
      "2021-12-08 16:59:43.652841: I tensorflow/stream_executor/cuda/cuda_gpu_executor.cc:937] successful NUMA node read from SysFS had negative value (-1), but there must be at least one NUMA node, so returning NUMA node zero\n",
      "2021-12-08 16:59:43.653078: I tensorflow/core/common_runtime/gpu/gpu_device.cc:1871] Adding visible gpu devices: 0\n",
      "2021-12-08 16:59:43.653120: I tensorflow/stream_executor/platform/default/dso_loader.cc:53] Successfully opened dynamic library libcudart.so.11.0\n",
      "2021-12-08 16:59:44.096901: I tensorflow/core/common_runtime/gpu/gpu_device.cc:1258] Device interconnect StreamExecutor with strength 1 edge matrix:\n",
      "2021-12-08 16:59:44.096931: I tensorflow/core/common_runtime/gpu/gpu_device.cc:1264]      0 \n",
      "2021-12-08 16:59:44.096940: I tensorflow/core/common_runtime/gpu/gpu_device.cc:1277] 0:   N \n",
      "2021-12-08 16:59:44.097118: I tensorflow/stream_executor/cuda/cuda_gpu_executor.cc:937] successful NUMA node read from SysFS had negative value (-1), but there must be at least one NUMA node, so returning NUMA node zero\n",
      "2021-12-08 16:59:44.097388: I tensorflow/stream_executor/cuda/cuda_gpu_executor.cc:937] successful NUMA node read from SysFS had negative value (-1), but there must be at least one NUMA node, so returning NUMA node zero\n",
      "2021-12-08 16:59:44.097625: I tensorflow/stream_executor/cuda/cuda_gpu_executor.cc:937] successful NUMA node read from SysFS had negative value (-1), but there must be at least one NUMA node, so returning NUMA node zero\n",
      "2021-12-08 16:59:44.097847: I tensorflow/core/common_runtime/gpu/gpu_device.cc:1418] Created TensorFlow device (/job:localhost/replica:0/task:0/device:GPU:0 with 700 MB memory) -> physical GPU (device: 0, name: NVIDIA GeForce MX230, pci bus id: 0000:01:00.0, compute capability: 6.1)\n",
      "WARNING:tensorflow:From /home/mateusz/miniconda3/envs/thermo/lib/python3.8/site-packages/tensorflow/python/ops/array_ops.py:5043: calling gather (from tensorflow.python.ops.array_ops) with validate_indices is deprecated and will be removed in a future version.\n",
      "Instructions for updating:\n",
      "The `validate_indices` argument has no effect. Indices are always validated on CPU and never validated on GPU.\n",
      "2021-12-08 16:59:49.122575: W tensorflow/python/util/util.cc:348] Sets are not currently considered sequences, but this may change in the future, so consider avoiding using them.\n",
      "WARNING:absl:Found untraced functions such as gen_tensor_dict while saving (showing 1 of 1). These functions will not be directly callable after loading.\n",
      "2021-12-08 16:59:50,950 - onnx-tf - INFO - Converting completes successfully.\n",
      "INFO:onnx-tf:Converting completes successfully.\n"
     ]
    }
   ],
   "source": [
    "!onnx-tf convert -i {model_path}.onnx -o {model_path}_tf"
   ]
  },
  {
   "cell_type": "markdown",
   "id": "64e454e1",
   "metadata": {},
   "source": [
    "# TensorFlow Lite"
   ]
  },
  {
   "cell_type": "code",
   "execution_count": 13,
   "id": "02f3037b",
   "metadata": {},
   "outputs": [
    {
     "name": "stderr",
     "output_type": "stream",
     "text": [
      "2021-12-08 16:59:51.582752: I tensorflow/stream_executor/platform/default/dso_loader.cc:53] Successfully opened dynamic library libcudart.so.11.0\n"
     ]
    }
   ],
   "source": [
    "import tensorflow as tf"
   ]
  },
  {
   "cell_type": "code",
   "execution_count": 14,
   "id": "72136cbc",
   "metadata": {},
   "outputs": [],
   "source": [
    "def inference_tflite(model_path: str, input_data: np.ndarray):\n",
    "    dtype = np.float32\n",
    "    \n",
    "    # Load the TFLite model and allocate tensors.\n",
    "    interpreter = tf.lite.Interpreter(model_path)\n",
    "    interpreter.allocate_tensors()\n",
    "\n",
    "    # Get input and output tensors.\n",
    "    input_details = interpreter.get_input_details()\n",
    "    output_details = interpreter.get_output_details()\n",
    "    \n",
    "    print(input_details)\n",
    "    print(output_details)\n",
    "    \n",
    "    in_scale = input_details[0]['quantization'][0]\n",
    "    in_zero_point = input_details[0]['quantization'][1]\n",
    "    \n",
    "    if (in_scale, in_zero_point) != (0.0, 0):\n",
    "        input_data = input_data / in_scale + in_zero_point\n",
    "        dtype = np.int8\n",
    "    \n",
    "    input_shape = input_details[0]['shape']\n",
    "    interpreter.set_tensor(input_details[0]['index'], input_data.astype(dtype))\n",
    "\n",
    "    interpreter.invoke()\n",
    "\n",
    "    # The function `get_tensor()` returns a copy of the tensor data.\n",
    "    # Use `tensor()` in order to get a pointer to the tensor.\n",
    "    output_data = interpreter.get_tensor(output_details[0]['index'])\n",
    "    \n",
    "    out_scale = output_details[0]['quantization'][0]\n",
    "    out_zero_point = output_details[0]['quantization'][1]\n",
    "    \n",
    "    if (out_scale, out_zero_point) != (0.0, 0):\n",
    "        output_data = (output_data - out_zero_point) * out_scale\n",
    "\n",
    "    print(np.sum(output_data) / 52.0)\n",
    "    plt.imshow(output_data[0]);"
   ]
  },
  {
   "cell_type": "markdown",
   "id": "749ff633",
   "metadata": {},
   "source": [
    "## FP32"
   ]
  },
  {
   "cell_type": "code",
   "execution_count": 15,
   "id": "94d645ef",
   "metadata": {
    "scrolled": false
   },
   "outputs": [
    {
     "name": "stderr",
     "output_type": "stream",
     "text": [
      "2021-12-08 16:59:52.975400: I tensorflow/stream_executor/platform/default/dso_loader.cc:53] Successfully opened dynamic library libcuda.so.1\n",
      "2021-12-08 16:59:53.049407: I tensorflow/stream_executor/cuda/cuda_gpu_executor.cc:937] successful NUMA node read from SysFS had negative value (-1), but there must be at least one NUMA node, so returning NUMA node zero\n",
      "2021-12-08 16:59:53.049719: I tensorflow/core/common_runtime/gpu/gpu_device.cc:1733] Found device 0 with properties: \n",
      "pciBusID: 0000:01:00.0 name: NVIDIA GeForce MX230 computeCapability: 6.1\n",
      "coreClock: 1.531GHz coreCount: 2 deviceMemorySize: 1.96GiB deviceMemoryBandwidth: 52.21GiB/s\n",
      "2021-12-08 16:59:53.049756: I tensorflow/stream_executor/platform/default/dso_loader.cc:53] Successfully opened dynamic library libcudart.so.11.0\n",
      "2021-12-08 16:59:53.054973: I tensorflow/stream_executor/platform/default/dso_loader.cc:53] Successfully opened dynamic library libcublas.so.11\n",
      "2021-12-08 16:59:53.055047: I tensorflow/stream_executor/platform/default/dso_loader.cc:53] Successfully opened dynamic library libcublasLt.so.11\n",
      "2021-12-08 16:59:53.056851: I tensorflow/stream_executor/platform/default/dso_loader.cc:53] Successfully opened dynamic library libcufft.so.10\n",
      "2021-12-08 16:59:53.057345: I tensorflow/stream_executor/platform/default/dso_loader.cc:53] Successfully opened dynamic library libcurand.so.10\n",
      "2021-12-08 16:59:53.058023: I tensorflow/stream_executor/platform/default/dso_loader.cc:53] Successfully opened dynamic library libcusolver.so.11\n",
      "2021-12-08 16:59:53.059086: I tensorflow/stream_executor/platform/default/dso_loader.cc:53] Successfully opened dynamic library libcusparse.so.11\n",
      "2021-12-08 16:59:53.059286: I tensorflow/stream_executor/platform/default/dso_loader.cc:53] Successfully opened dynamic library libcudnn.so.8\n",
      "2021-12-08 16:59:53.059414: I tensorflow/stream_executor/cuda/cuda_gpu_executor.cc:937] successful NUMA node read from SysFS had negative value (-1), but there must be at least one NUMA node, so returning NUMA node zero\n",
      "2021-12-08 16:59:53.059777: I tensorflow/stream_executor/cuda/cuda_gpu_executor.cc:937] successful NUMA node read from SysFS had negative value (-1), but there must be at least one NUMA node, so returning NUMA node zero\n",
      "2021-12-08 16:59:53.060042: I tensorflow/core/common_runtime/gpu/gpu_device.cc:1871] Adding visible gpu devices: 0\n",
      "2021-12-08 16:59:53.060436: I tensorflow/core/platform/cpu_feature_guard.cc:142] This TensorFlow binary is optimized with oneAPI Deep Neural Network Library (oneDNN) to use the following CPU instructions in performance-critical operations:  AVX2 FMA\n",
      "To enable them in other operations, rebuild TensorFlow with the appropriate compiler flags.\n",
      "2021-12-08 16:59:53.061055: I tensorflow/stream_executor/cuda/cuda_gpu_executor.cc:937] successful NUMA node read from SysFS had negative value (-1), but there must be at least one NUMA node, so returning NUMA node zero\n",
      "2021-12-08 16:59:53.061371: I tensorflow/core/common_runtime/gpu/gpu_device.cc:1733] Found device 0 with properties: \n",
      "pciBusID: 0000:01:00.0 name: NVIDIA GeForce MX230 computeCapability: 6.1\n",
      "coreClock: 1.531GHz coreCount: 2 deviceMemorySize: 1.96GiB deviceMemoryBandwidth: 52.21GiB/s\n",
      "2021-12-08 16:59:53.061468: I tensorflow/stream_executor/cuda/cuda_gpu_executor.cc:937] successful NUMA node read from SysFS had negative value (-1), but there must be at least one NUMA node, so returning NUMA node zero\n",
      "2021-12-08 16:59:53.061765: I tensorflow/stream_executor/cuda/cuda_gpu_executor.cc:937] successful NUMA node read from SysFS had negative value (-1), but there must be at least one NUMA node, so returning NUMA node zero\n",
      "2021-12-08 16:59:53.062014: I tensorflow/core/common_runtime/gpu/gpu_device.cc:1871] Adding visible gpu devices: 0\n",
      "2021-12-08 16:59:53.062066: I tensorflow/stream_executor/platform/default/dso_loader.cc:53] Successfully opened dynamic library libcudart.so.11.0\n",
      "2021-12-08 16:59:53.523765: I tensorflow/core/common_runtime/gpu/gpu_device.cc:1258] Device interconnect StreamExecutor with strength 1 edge matrix:\n",
      "2021-12-08 16:59:53.523791: I tensorflow/core/common_runtime/gpu/gpu_device.cc:1264]      0 \n",
      "2021-12-08 16:59:53.523797: I tensorflow/core/common_runtime/gpu/gpu_device.cc:1277] 0:   N \n",
      "2021-12-08 16:59:53.523964: I tensorflow/stream_executor/cuda/cuda_gpu_executor.cc:937] successful NUMA node read from SysFS had negative value (-1), but there must be at least one NUMA node, so returning NUMA node zero\n",
      "2021-12-08 16:59:53.524225: I tensorflow/stream_executor/cuda/cuda_gpu_executor.cc:937] successful NUMA node read from SysFS had negative value (-1), but there must be at least one NUMA node, so returning NUMA node zero\n",
      "2021-12-08 16:59:53.524435: I tensorflow/stream_executor/cuda/cuda_gpu_executor.cc:937] successful NUMA node read from SysFS had negative value (-1), but there must be at least one NUMA node, so returning NUMA node zero\n",
      "2021-12-08 16:59:53.524625: I tensorflow/core/common_runtime/gpu/gpu_device.cc:1418] Created TensorFlow device (/job:localhost/replica:0/task:0/device:GPU:0 with 702 MB memory) -> physical GPU (device: 0, name: NVIDIA GeForce MX230, pci bus id: 0000:01:00.0, compute capability: 6.1)\n"
     ]
    },
    {
     "name": "stdout",
     "output_type": "stream",
     "text": [
      "[{'name': 'serving_default_input:0', 'index': 0, 'shape': array([ 1,  1, 24, 32], dtype=int32), 'shape_signature': array([-1,  1, 24, 32], dtype=int32), 'dtype': <class 'numpy.float32'>, 'quantization': (0.0, 0), 'quantization_parameters': {'scales': array([], dtype=float32), 'zero_points': array([], dtype=int32), 'quantized_dimension': 0}, 'sparsity_parameters': {}}]\n",
      "[{'name': 'PartitionedCall:0', 'index': 138, 'shape': array([ 1, 24, 32], dtype=int32), 'shape_signature': array([-1, 24, 32], dtype=int32), 'dtype': <class 'numpy.float32'>, 'quantization': (0.0, 0), 'quantization_parameters': {'scales': array([], dtype=float32), 'zero_points': array([], dtype=int32), 'quantized_dimension': 0}, 'sparsity_parameters': {}}]\n",
      "1.4187748248760517\n"
     ]
    },
    {
     "name": "stderr",
     "output_type": "stream",
     "text": [
      "2021-12-08 16:59:55.392633: W tensorflow/compiler/mlir/lite/python/tf_tfl_flatbuffer_helpers.cc:345] Ignored output_format.\n",
      "2021-12-08 16:59:55.392658: W tensorflow/compiler/mlir/lite/python/tf_tfl_flatbuffer_helpers.cc:348] Ignored drop_control_dependency.\n",
      "2021-12-08 16:59:55.392681: W tensorflow/compiler/mlir/lite/python/tf_tfl_flatbuffer_helpers.cc:354] Ignored change_concat_input_ranges.\n",
      "2021-12-08 16:59:55.393984: I tensorflow/cc/saved_model/reader.cc:38] Reading SavedModel from: ./models/model_with_batchnorm_no_conv2d_tf\n",
      "2021-12-08 16:59:55.397274: I tensorflow/cc/saved_model/reader.cc:90] Reading meta graph with tags { serve }\n",
      "2021-12-08 16:59:55.397303: I tensorflow/cc/saved_model/reader.cc:132] Reading SavedModel debug info (if present) from: ./models/model_with_batchnorm_no_conv2d_tf\n",
      "2021-12-08 16:59:55.397351: I tensorflow/core/common_runtime/gpu/gpu_device.cc:1258] Device interconnect StreamExecutor with strength 1 edge matrix:\n",
      "2021-12-08 16:59:55.397356: I tensorflow/core/common_runtime/gpu/gpu_device.cc:1264]      \n",
      "2021-12-08 16:59:55.407797: I tensorflow/cc/saved_model/loader.cc:206] Restoring SavedModel bundle.\n",
      "2021-12-08 16:59:55.429343: I tensorflow/core/platform/profile_utils/cpu_utils.cc:114] CPU Frequency: 1800000000 Hz\n",
      "2021-12-08 16:59:55.462623: I tensorflow/cc/saved_model/loader.cc:190] Running initialization op on SavedModel bundle at path: ./models/model_with_batchnorm_no_conv2d_tf\n",
      "2021-12-08 16:59:55.477829: I tensorflow/cc/saved_model/loader.cc:277] SavedModel load for tags { serve }; Status: success: OK. Took 83848 microseconds.\n",
      "2021-12-08 16:59:55.524183: I tensorflow/compiler/mlir/tensorflow/utils/dump_mlir_util.cc:210] disabling MLIR crash reproducer, set env var `MLIR_CRASH_REPRODUCER_DIRECTORY` to enable.\n",
      "2021-12-08 16:59:55.540218: I tensorflow/stream_executor/cuda/cuda_gpu_executor.cc:937] successful NUMA node read from SysFS had negative value (-1), but there must be at least one NUMA node, so returning NUMA node zero\n",
      "2021-12-08 16:59:55.540474: I tensorflow/core/common_runtime/gpu/gpu_device.cc:1733] Found device 0 with properties: \n",
      "pciBusID: 0000:01:00.0 name: NVIDIA GeForce MX230 computeCapability: 6.1\n",
      "coreClock: 1.531GHz coreCount: 2 deviceMemorySize: 1.96GiB deviceMemoryBandwidth: 52.21GiB/s\n",
      "2021-12-08 16:59:55.540561: I tensorflow/stream_executor/cuda/cuda_gpu_executor.cc:937] successful NUMA node read from SysFS had negative value (-1), but there must be at least one NUMA node, so returning NUMA node zero\n",
      "2021-12-08 16:59:55.540773: I tensorflow/stream_executor/cuda/cuda_gpu_executor.cc:937] successful NUMA node read from SysFS had negative value (-1), but there must be at least one NUMA node, so returning NUMA node zero\n",
      "2021-12-08 16:59:55.540944: I tensorflow/core/common_runtime/gpu/gpu_device.cc:1871] Adding visible gpu devices: 0\n",
      "2021-12-08 16:59:55.540967: I tensorflow/core/common_runtime/gpu/gpu_device.cc:1258] Device interconnect StreamExecutor with strength 1 edge matrix:\n",
      "2021-12-08 16:59:55.540972: I tensorflow/core/common_runtime/gpu/gpu_device.cc:1264]      0 \n",
      "2021-12-08 16:59:55.540976: I tensorflow/core/common_runtime/gpu/gpu_device.cc:1277] 0:   N \n",
      "2021-12-08 16:59:55.541051: I tensorflow/stream_executor/cuda/cuda_gpu_executor.cc:937] successful NUMA node read from SysFS had negative value (-1), but there must be at least one NUMA node, so returning NUMA node zero\n",
      "2021-12-08 16:59:55.541280: I tensorflow/stream_executor/cuda/cuda_gpu_executor.cc:937] successful NUMA node read from SysFS had negative value (-1), but there must be at least one NUMA node, so returning NUMA node zero\n",
      "2021-12-08 16:59:55.541467: I tensorflow/core/common_runtime/gpu/gpu_device.cc:1418] Created TensorFlow device (/job:localhost/replica:0/task:0/device:GPU:0 with 702 MB memory) -> physical GPU (device: 0, name: NVIDIA GeForce MX230, pci bus id: 0000:01:00.0, compute capability: 6.1)\n"
     ]
    },
    {
     "data": {
      "image/png": "[encoded data removed]",
      "text/plain": [
       "<Figure size 432x288 with 1 Axes>"
      ]
     },
     "metadata": {
      "needs_background": "light"
     },
     "output_type": "display_data"
    }
   ],
   "source": [
    "# Convert the model\n",
    "converter = tf.lite.TFLiteConverter.from_saved_model(f\"{model_path}_tf\") # path to the SavedModel directory\n",
    "tflite_model = converter.convert()\n",
    "\n",
    "# Save the model.\n",
    "with open(f\"{model_path}_fp32.tflite\", 'wb') as f:\n",
    "    f.write(tflite_model)\n",
    "    \n",
    "inference_tflite(f\"{model_path}_fp32.tflite\", frame_for_model)"
   ]
  },
  {
   "cell_type": "markdown",
   "id": "7b0b3606",
   "metadata": {},
   "source": [
    "## FP16"
   ]
  },
  {
   "cell_type": "code",
   "execution_count": 16,
   "id": "16bc1f7f",
   "metadata": {},
   "outputs": [
    {
     "name": "stdout",
     "output_type": "stream",
     "text": [
      "[{'name': 'serving_default_input:0', 'index': 0, 'shape': array([ 1,  1, 24, 32], dtype=int32), 'shape_signature': array([-1,  1, 24, 32], dtype=int32), 'dtype': <class 'numpy.float32'>, 'quantization': (0.0, 0), 'quantization_parameters': {'scales': array([], dtype=float32), 'zero_points': array([], dtype=int32), 'quantized_dimension': 0}, 'sparsity_parameters': {}}]\n",
      "[{'name': 'PartitionedCall:0', 'index': 138, 'shape': array([ 1, 24, 32], dtype=int32), 'shape_signature': array([-1, 24, 32], dtype=int32), 'dtype': <class 'numpy.float32'>, 'quantization': (0.0, 0), 'quantization_parameters': {'scales': array([], dtype=float32), 'zero_points': array([], dtype=int32), 'quantized_dimension': 0}, 'sparsity_parameters': {}}]\n",
      "1.4173751244178185\n"
     ]
    },
    {
     "name": "stderr",
     "output_type": "stream",
     "text": [
      "2021-12-08 16:59:57.288926: W tensorflow/compiler/mlir/lite/python/tf_tfl_flatbuffer_helpers.cc:345] Ignored output_format.\n",
      "2021-12-08 16:59:57.288951: W tensorflow/compiler/mlir/lite/python/tf_tfl_flatbuffer_helpers.cc:348] Ignored drop_control_dependency.\n",
      "2021-12-08 16:59:57.288956: W tensorflow/compiler/mlir/lite/python/tf_tfl_flatbuffer_helpers.cc:354] Ignored change_concat_input_ranges.\n",
      "2021-12-08 16:59:57.289225: I tensorflow/cc/saved_model/reader.cc:38] Reading SavedModel from: ./models/model_with_batchnorm_no_conv2d_tf\n",
      "2021-12-08 16:59:57.292127: I tensorflow/cc/saved_model/reader.cc:90] Reading meta graph with tags { serve }\n",
      "2021-12-08 16:59:57.292169: I tensorflow/cc/saved_model/reader.cc:132] Reading SavedModel debug info (if present) from: ./models/model_with_batchnorm_no_conv2d_tf\n",
      "2021-12-08 16:59:57.292230: I tensorflow/core/common_runtime/gpu/gpu_device.cc:1258] Device interconnect StreamExecutor with strength 1 edge matrix:\n",
      "2021-12-08 16:59:57.292235: I tensorflow/core/common_runtime/gpu/gpu_device.cc:1264]      \n",
      "2021-12-08 16:59:57.301756: I tensorflow/cc/saved_model/loader.cc:206] Restoring SavedModel bundle.\n",
      "2021-12-08 16:59:57.317432: I tensorflow/cc/saved_model/loader.cc:190] Running initialization op on SavedModel bundle at path: ./models/model_with_batchnorm_no_conv2d_tf\n",
      "2021-12-08 16:59:57.331666: I tensorflow/cc/saved_model/loader.cc:277] SavedModel load for tags { serve }; Status: success: OK. Took 42442 microseconds.\n"
     ]
    },
    {
     "data": {
      "image/png": "[encoded data removed]",
      "text/plain": [
       "<Figure size 432x288 with 1 Axes>"
      ]
     },
     "metadata": {
      "needs_background": "light"
     },
     "output_type": "display_data"
    }
   ],
   "source": [
    "converter = tf.lite.TFLiteConverter.from_saved_model(f\"{model_path}_tf\")\n",
    "converter.optimizations = [tf.lite.Optimize.DEFAULT]\n",
    "converter.target_spec.supported_types = [tf.float16]\n",
    "tflite_model_fp16 = converter.convert()\n",
    "\n",
    "# Save the model.\n",
    "with open(f\"{model_path}_fp16.tflite\", 'wb') as f:\n",
    "    f.write(tflite_model_fp16)\n",
    "    \n",
    "inference_tflite(f\"{model_path}_fp16.tflite\", frame_for_model)"
   ]
  },
  {
   "cell_type": "markdown",
   "id": "73f0ed6d",
   "metadata": {},
   "source": [
    "## INT8"
   ]
  },
  {
   "cell_type": "code",
   "execution_count": 17,
   "id": "b844dd84",
   "metadata": {},
   "outputs": [],
   "source": [
    "import pandas as pd\n",
    "\n",
    "def representative_dataset():\n",
    "    df = pd.read_csv('../data_processing/example_data/one_person_close.csv', delimiter=',', skiprows=[0], index_col=0)\n",
    "    \n",
    "    for i in range(100):\n",
    "        data = df.iloc[i].values[1:]\n",
    "        data = np.reshape(data, IR_CAMERA_RESOLUTION)\n",
    "        data = (data - TEMPERATURE_NORMALIZATION__MIN) * \\\n",
    "                           (1 / (TEMPERATURE_NORMALIZATION__MAX - TEMPERATURE_NORMALIZATION__MIN))\n",
    "        data = data[np.newaxis, :, :][np.newaxis, :, :, :]\n",
    "        data = data.astype(np.float32)\n",
    "        \n",
    "        yield [data]"
   ]
  },
  {
   "cell_type": "markdown",
   "id": "9acfe3dd",
   "metadata": {},
   "source": [
    "### Convert real value data to int8 format \n",
    "int8_value = real_value / scale + zero_point\n",
    "\n",
    "### Convert int8 data to real value format\n",
    "real_value = (int8_value - zero_point) * scale"
   ]
  },
  {
   "cell_type": "code",
   "execution_count": 18,
   "id": "b200a8b0",
   "metadata": {
    "scrolled": false
   },
   "outputs": [
    {
     "name": "stderr",
     "output_type": "stream",
     "text": [
      "2021-12-08 16:59:59.186884: W tensorflow/compiler/mlir/lite/python/tf_tfl_flatbuffer_helpers.cc:345] Ignored output_format.\n",
      "2021-12-08 16:59:59.186907: W tensorflow/compiler/mlir/lite/python/tf_tfl_flatbuffer_helpers.cc:348] Ignored drop_control_dependency.\n",
      "2021-12-08 16:59:59.186912: W tensorflow/compiler/mlir/lite/python/tf_tfl_flatbuffer_helpers.cc:354] Ignored change_concat_input_ranges.\n",
      "2021-12-08 16:59:59.187144: I tensorflow/cc/saved_model/reader.cc:38] Reading SavedModel from: ./models/model_with_batchnorm_no_conv2d_tf\n",
      "2021-12-08 16:59:59.190057: I tensorflow/cc/saved_model/reader.cc:90] Reading meta graph with tags { serve }\n",
      "2021-12-08 16:59:59.190079: I tensorflow/cc/saved_model/reader.cc:132] Reading SavedModel debug info (if present) from: ./models/model_with_batchnorm_no_conv2d_tf\n",
      "2021-12-08 16:59:59.190128: I tensorflow/core/common_runtime/gpu/gpu_device.cc:1258] Device interconnect StreamExecutor with strength 1 edge matrix:\n",
      "2021-12-08 16:59:59.190151: I tensorflow/core/common_runtime/gpu/gpu_device.cc:1264]      \n",
      "2021-12-08 16:59:59.200242: I tensorflow/cc/saved_model/loader.cc:206] Restoring SavedModel bundle.\n",
      "2021-12-08 16:59:59.216029: I tensorflow/cc/saved_model/loader.cc:190] Running initialization op on SavedModel bundle at path: ./models/model_with_batchnorm_no_conv2d_tf\n",
      "2021-12-08 16:59:59.230390: I tensorflow/cc/saved_model/loader.cc:277] SavedModel load for tags { serve }; Status: success: OK. Took 43245 microseconds.\n",
      "fully_quantize: 0, inference_type: 6, input_inference_type: 9, output_inference_type: 9\n"
     ]
    },
    {
     "name": "stdout",
     "output_type": "stream",
     "text": [
      "[{'name': 'serving_default_input:0', 'index': 0, 'shape': array([ 1,  1, 24, 32], dtype=int32), 'shape_signature': array([-1,  1, 24, 32], dtype=int32), 'dtype': <class 'numpy.int8'>, 'quantization': (0.0037934640422463417, -101), 'quantization_parameters': {'scales': array([0.00379346], dtype=float32), 'zero_points': array([-101], dtype=int32), 'quantized_dimension': 0}, 'sparsity_parameters': {}}]\n",
      "[{'name': 'PartitionedCall:0', 'index': 138, 'shape': array([ 1, 24, 32], dtype=int32), 'shape_signature': array([-1, 24, 32], dtype=int32), 'dtype': <class 'numpy.int8'>, 'quantization': (0.007720551919192076, -80), 'quantization_parameters': {'scales': array([0.00772055], dtype=float32), 'zero_points': array([-80], dtype=int32), 'quantized_dimension': 0}, 'sparsity_parameters': {}}]\n",
      "1.6340845081274613\n"
     ]
    },
    {
     "data": {
      "image/png": "[encoded data removed]",
      "text/plain": [
       "<Figure size 432x288 with 1 Axes>"
      ]
     },
     "metadata": {
      "needs_background": "light"
     },
     "output_type": "display_data"
    }
   ],
   "source": [
    "converter = tf.lite.TFLiteConverter.from_saved_model(f\"{model_path}_tf\")\n",
    "converter.optimizations = [tf.lite.Optimize.DEFAULT]\n",
    "converter.representative_dataset = representative_dataset\n",
    "converter.target_spec.supported_ops = [tf.lite.OpsSet.TFLITE_BUILTINS_INT8]\n",
    "converter.inference_input_type = tf.int8  # or tf.uint8\n",
    "converter.inference_output_type = tf.int8  # or tf.uint8\n",
    "converter._experimental_new_quantizer = True\n",
    "tflite_model_int8 = converter.convert()\n",
    "\n",
    "# Save the model.\n",
    "with open(f\"{model_path}_int8.tflite\", 'wb') as f:\n",
    "    f.write(tflite_model_int8)\n",
    "    \n",
    "inference_tflite(f\"{model_path}_int8.tflite\", frame_for_model)"
   ]
  },
  {
   "cell_type": "markdown",
   "id": "a7c2202c",
   "metadata": {},
   "source": [
    "## Edge TPU compiled"
   ]
  },
  {
   "cell_type": "code",
   "execution_count": 19,
   "id": "75ffdc3d",
   "metadata": {},
   "outputs": [
    {
     "name": "stdout",
     "output_type": "stream",
     "text": [
      "Edge TPU Compiler version 16.0.384591198\n",
      "Started a compilation timeout timer of 180 seconds.\n",
      "loc(fused[\"onnx_tf_prefix_BatchNormalization_36/add_11\", \"transpose_1/perm\"]): error: non-broadcastable operands\n",
      "loc(fused[\"onnx_tf_prefix_BatchNormalization_27/add_11\", \"transpose_1/perm\"]): error: non-broadcastable operands\n",
      "loc(fused[\"onnx_tf_prefix_BatchNormalization_18/add_11\", \"transpose_1/perm\"]): error: non-broadcastable operands\n",
      "loc(fused[\"transpose_14\", \"transpose_1/perm\"]): error: non-broadcastable operands\n",
      "loc(fused[\"transpose_14\", \"transpose_1/perm\"]): error: non-broadcastable operands\n",
      "loc(fused[\"transpose_6\", \"transpose_1/perm\"]): error: non-broadcastable operands\n",
      "loc(fused[\"transpose_6\", \"transpose_1/perm\"]): error: non-broadcastable operands\n",
      "Compilation child process completed within timeout period.\n",
      "Compilation failed! \n"
     ]
    }
   ],
   "source": [
    "!edgetpu_compiler {model_path}_int8.tflite"
   ]
  },
  {
   "cell_type": "markdown",
   "id": "3aa1d9ee",
   "metadata": {},
   "source": [
    "## TensorFlow Lite Micro"
   ]
  },
  {
   "cell_type": "code",
   "execution_count": 20,
   "id": "ed06403e",
   "metadata": {},
   "outputs": [],
   "source": [
    "!xxd -i {model_path}_int8.tflite {model_path}_int8.cc"
   ]
  },
  {
   "cell_type": "code",
   "execution_count": 21,
   "id": "1578247c",
   "metadata": {},
   "outputs": [],
   "source": [
    "!sed -i 's/'{model_path.replace('/', '_').replace('.', '_')}'_int8_tflite/g_model/g' {model_path}_int8.cc"
   ]
  },
  {
   "cell_type": "code",
   "execution_count": 22,
   "id": "aa4c7bf9",
   "metadata": {},
   "outputs": [
    {
     "name": "stdout",
     "output_type": "stream",
     "text": [
      "  0x00, 0x11, 0x0a, 0x00, 0x08, 0x00, 0x00, 0x00, 0x00, 0x00, 0x04, 0x00,\r\n",
      "  0x0a, 0x00, 0x00, 0x00, 0x02, 0x00, 0x00, 0x00, 0xd0, 0xff, 0xff, 0xff,\r\n",
      "  0x12, 0x00, 0x00, 0x00, 0x02, 0x00, 0x00, 0x00, 0x00, 0x00, 0x00, 0x12,\r\n",
      "  0xe0, 0xff, 0xff, 0xff, 0x03, 0x00, 0x00, 0x00, 0x03, 0x00, 0x00, 0x00,\r\n",
      "  0x00, 0x00, 0x00, 0x03, 0xf0, 0xff, 0xff, 0xff, 0x27, 0x00, 0x00, 0x00,\r\n",
      "  0x02, 0x00, 0x00, 0x00, 0x00, 0x00, 0x00, 0x27, 0x0c, 0x00, 0x10, 0x00,\r\n",
      "  0x0f, 0x00, 0x00, 0x00, 0x08, 0x00, 0x04, 0x00, 0x0c, 0x00, 0x00, 0x00,\r\n",
      "  0x22, 0x00, 0x00, 0x00, 0x02, 0x00, 0x00, 0x00, 0x00, 0x00, 0x00, 0x22\r\n",
      "};\r\n",
      "unsigned int g_model_len = 164232;\r\n"
     ]
    }
   ],
   "source": [
    "!cat {model_path}_int8.cc | tail"
   ]
  }
 ],
 "metadata": {
  "kernelspec": {
   "display_name": "Python 3 (ipykernel)",
   "language": "python",
   "name": "python3"
  },
  "language_info": {
   "codemirror_mode": {
    "name": "ipython",
    "version": 3
   },
   "file_extension": ".py",
   "mimetype": "text/x-python",
   "name": "python",
   "nbconvert_exporter": "python",
   "pygments_lexer": "ipython3",
   "version": "3.8.5"
  }
 },
 "nbformat": 4,
 "nbformat_minor": 5
}
