{
 "cells": [
  {
   "cell_type": "code",
   "execution_count": 1,
   "id": "8f1960ea",
   "metadata": {},
   "outputs": [
    {
     "data": {
      "text/plain": [
       "'1.6.0'"
      ]
     },
     "execution_count": 1,
     "metadata": {},
     "output_type": "execute_result"
    }
   ],
   "source": [
    "import os\n",
    "import numpy as np\n",
    "import matplotlib.pyplot as plt\n",
    "\n",
    "import torch\n",
    "from torch import nn\n",
    "import torch.nn.functional as F\n",
    "\n",
    "from typing import Tuple\n",
    "\n",
    "torch.__version__"
   ]
  },
  {
   "cell_type": "code",
   "execution_count": 2,
   "id": "191b5b5f",
   "metadata": {},
   "outputs": [
    {
     "name": "stdout",
     "output_type": "stream",
     "text": [
      "mkdir: cannot create directory ‘models’: File exists\r\n"
     ]
    }
   ],
   "source": [
    "!mkdir models"
   ]
  },
  {
   "cell_type": "code",
   "execution_count": 3,
   "id": "4bd22017",
   "metadata": {},
   "outputs": [],
   "source": [
    "# from config import IR_CAMERA_RESOLUTION, TEMPERATURE_NORMALIZATION__MIN, TEMPERATURE_NORMALIZATION__MAX\n",
    "IR_CAMERA_RESOLUTION_X = 32\n",
    "IR_CAMERA_RESOLUTION_Y = 24\n",
    "\n",
    "IR_CAMERA_RESOLUTION = (IR_CAMERA_RESOLUTION_Y, IR_CAMERA_RESOLUTION_X)\n",
    "\n",
    "# for frames normalization\n",
    "TEMPERATURE_NORMALIZATION__MIN = 20\n",
    "TEMPERATURE_NORMALIZATION__MAX = 35"
   ]
  },
  {
   "cell_type": "code",
   "execution_count": 4,
   "id": "f93f1321",
   "metadata": {},
   "outputs": [],
   "source": [
    "class AutoEncoder(torch.nn.Module):\n",
    "    def __init__(self, in_channels, out_channels):\n",
    "        super().__init__()\n",
    "        self.encoder = Encoder(in_channels)\n",
    "        self.conv = DoubleConv(32, 64, 3, 1)\n",
    "        self.upconv1 = ExpandBlock(64, 32, 3, 1)\n",
    "        self.upconv2 = ExpandBlock(32, 16, 3, 1)\n",
    "        self.out_conv = nn.Conv2d(16, out_channels, kernel_size=1)\n",
    "        \n",
    "    def forward(self, x):\n",
    "        # downsampling part\n",
    "        x, conv2, conv1 = self.encoder(x)\n",
    "        x = self.conv(x)\n",
    "        x = self.upconv1(x, conv2)\n",
    "        x = self.upconv2(x, conv1)\n",
    "        x = self.out_conv(x)\n",
    "\n",
    "        x = x[:, 0, :, :]  # get rid of one dimension\n",
    "        return x\n",
    "\n",
    "\n",
    "class ExpandBlock(nn.Sequential):\n",
    "    def __init__(self, in_channels: int, out_channels: int, kernel_size: int, padding: int):\n",
    "        super().__init__()\n",
    "        self.conv_transpose = nn.ConvTranspose2d(\n",
    "            in_channels, in_channels // 2, kernel_size=3, stride=2, padding=1, output_padding=1\n",
    "        )\n",
    "        self.conv1 = nn.Conv2d(in_channels, out_channels, kernel_size, padding=padding)\n",
    "        self.bn1 = nn.BatchNorm2d(out_channels)\n",
    "        self.conv2 = nn.Conv2d(out_channels, out_channels, kernel_size, padding=padding)\n",
    "        self.bn2 = nn.BatchNorm2d(out_channels)\n",
    "        self.relu = nn.ReLU(inplace=True)\n",
    "        \n",
    "    def forward(self, x: torch.Tensor, encoder_features: torch.Tensor) -> torch.Tensor:\n",
    "        x = self.conv_transpose(x)\n",
    "        x = torch.cat((x, encoder_features), dim=1)\n",
    "        x = self.conv1(x)\n",
    "        x = self.bn1(x)\n",
    "        x = self.relu(x)\n",
    "        x = self.conv2(x)\n",
    "        x = self.bn2(x)\n",
    "        x = self.relu(x)\n",
    "        return x\n",
    "\n",
    "\n",
    "class Encoder(nn.Module):\n",
    "    def __init__(self, in_channels: int):\n",
    "        super().__init__()\n",
    "        self.conv1 = ContractBlock(in_channels, 16, 3, 1)\n",
    "        self.conv2 = ContractBlock(16, 32, 3, 1)\n",
    "    def forward(self, x: torch.Tensor) -> Tuple[torch.Tensor, torch.Tensor, torch.Tensor]:\n",
    "        x, conv1 = self.conv1(x)\n",
    "        x, conv2 = self.conv2(x)\n",
    "        return x, conv2, conv1\n",
    "    def forward_simple(self, x: torch.Tensor) -> torch.Tensor:\n",
    "        x = self.input_conv(x)\n",
    "        x = self.conv1(x)\n",
    "        x = self.conv2(x)\n",
    "        return x\n",
    "\n",
    "\n",
    "class ContractBlock(nn.Module):\n",
    "    def __init__(self, in_channels, out_channels, kernel_size, padding):\n",
    "        super().__init__()\n",
    "        self.conv = DoubleConv(in_channels, out_channels, kernel_size, padding=padding)\n",
    "        self.pool = nn.MaxPool2d(kernel_size=2, stride=2)\n",
    "    def forward(self, x: torch.Tensor) -> Tuple[torch.Tensor, torch.Tensor]:\n",
    "        features = self.conv(x)\n",
    "        x = self.pool(features)\n",
    "        return x, features\n",
    "\n",
    "\n",
    "class DoubleConv(nn.Sequential):\n",
    "    def __init__(self, in_channels: int, out_channels: int, kernel_size: int, padding: int = 0):\n",
    "        super().__init__(\n",
    "            nn.Conv2d(in_channels, out_channels, kernel_size=kernel_size, stride=1, padding=padding),\n",
    "            nn.BatchNorm2d(out_channels),\n",
    "            nn.ReLU(inplace=True),\n",
    "            nn.Conv2d(out_channels, out_channels, kernel_size=kernel_size, stride=1, padding=padding),\n",
    "            nn.BatchNorm2d(out_channels),\n",
    "            nn.ReLU(inplace=True),\n",
    "        )\n",
    "\n",
    "\n",
    "\n",
    "class FrameProcessor:\n",
    "    def __init__(self):\n",
    "        self.latest_output_frame = None\n",
    "        self.sum_of_values_for_one_person = 52\n",
    "        #self.model = UNET(1, 1).double()\n",
    "        self.model = AutoEncoder(1, 1).double()\n",
    "\n",
    "#         current_dir = os.path.dirname(os.path.abspath(__file__))\n",
    "#         model_path = os.path.join(current_dir, 'unet_v2small_cpu2')\n",
    "        current_dir = '.'\n",
    "        model_path = os.path.join(current_dir, './models/unet_v2_cpu2')\n",
    "        self.model.load_state_dict(torch.load(model_path))\n",
    "        self.model.eval()\n",
    "        self.model.train(False)\n",
    "\n",
    "    def process_frame(self, raw_frame):\n",
    "        frame_2d = np.reshape(raw_frame, IR_CAMERA_RESOLUTION)\n",
    "\n",
    "        frame_normalized = (frame_2d - TEMPERATURE_NORMALIZATION__MIN) * \\\n",
    "                           (1 / (TEMPERATURE_NORMALIZATION__MAX - TEMPERATURE_NORMALIZATION__MIN))\n",
    "        frame_for_model = torch.tensor(frame_normalized)[np.newaxis, :, :][np.newaxis, :, :, :]\n",
    "        with torch.no_grad():\n",
    "            model_out_frame = self.model(frame_for_model)[0]\n",
    "        self.latest_output_frame = model_out_frame.numpy()\n",
    "        return self.latest_output_frame\n",
    "\n",
    "    def get_people_count_on_latest_frame(self):\n",
    "        if self.latest_output_frame is None:\n",
    "            return -1\n",
    "        return np.sum(self.latest_output_frame) / self.sum_of_values_for_one_person"
   ]
  },
  {
   "cell_type": "code",
   "execution_count": 5,
   "id": "13c92fe9",
   "metadata": {
    "scrolled": true
   },
   "outputs": [
    {
     "name": "stdout",
     "output_type": "stream",
     "text": [
      "1.5823851155061819\n"
     ]
    },
    {
     "data": {
      "image/png": "[encoded data removed]",
      "text/plain": [
       "<Figure size 432x288 with 1 Axes>"
      ]
     },
     "metadata": {
      "needs_background": "light"
     },
     "output_type": "display_data"
    }
   ],
   "source": [
    "fp = FrameProcessor()\n",
    "raw_frame = np.array([26.30,25.40,24.62,24.32,23.96,24.13,24.02,23.67,23.98,24.12,23.89,23.96,24.26,23.89,24.10,24.15,24.16,23.91,24.30,24.62,24.57,24.73,24.86,24.35,24.54,24.76,25.17,24.54,24.62,24.49,24.64,24.72,24.94,25.28,24.57,25.03,24.21,24.33,23.74,24.34,24.12,24.20,24.01,24.31,24.15,24.42,24.14,24.20,24.32,24.28,24.25,24.69,24.66,25.09,25.00,25.21,24.49,24.95,24.66,24.98,25.36,25.47,24.80,25.06,25.55,25.09,26.00,26.18,24.42,23.54,23.89,23.94,24.17,23.78,24.33,23.90,24.26,24.18,24.32,24.03,24.32,23.96,24.38,24.50,26.70,27.40,27.41,27.27,25.65,25.27,25.30,24.98,25.42,24.89,25.21,25.87,25.52,\n",
    "                          25.90,26.28,26.04,24.06,24.37,24.00,24.23,23.92,24.04,24.41,24.46,24.30,24.51,24.62,24.35,24.12,24.29,24.15,24.53,28.01,28.55,28.44,28.22,25.69,25.75,25.12,25.37,25.12,25.68,25.49,24.66,26.08,26.11,27.20,25.16,24.86,24.53,24.05,24.05,24.25,24.31,24.10,24.37,24.56,24.24,24.22,24.13,24.48,24.38,24.39,24.77,28.24,28.71,28.54,28.01,26.94,26.82,25.83,25.53,25.25,25.18,25.11,25.25,25.66,26.08,25.53,25.00,24.79,25.03,24.30,24.13,24.43,24.37,24.14,24.36,24.16,24.19,\n",
    "                          24.25,24.44,24.24,24.25,24.21,24.85,28.01,28.34,28.12,27.89,26.98,28.14,26.41,25.86,25.07,25.78,24.80,25.27,26.23,25.72,24.81,24.51,25.44,24.68,24.74,24.50,24.68,24.29,24.09,24.39,24.23,24.17,24.30,24.32,24.29,24.60,24.40,24.49,26.57,27.82,28.14,27.34,26.90,27.69,26.14,25.33,25.38,25.06,24.48,24.77,26.18,26.82,24.87,24.96,25.49,25.17,24.40,25.13,24.25,25.18,24.17,24.11,24.49,24.18,24.35,24.49,24.33,24.53,24.51,24.74,26.17,27.09,27.33,26.04,26.09,26.34,25.47,25.21,24.75,24.56,24.49,25.30,26.54,26.63,24.94,25.41,25.32,24.74,25.46,25.40,27.16,25.78,26.40,24.17,24.26,24.28,24.38,\n",
    "                          24.29,24.43,24.62,24.58,24.62,25.09,25.15,25.16,24.91,24.54,24.51,24.49,24.58,24.63,24.68,24.95,24.84,26.81,27.32,25.08,25.07,25.40,25.34,26.05,27.11,27.12,28.91,25.48,26.05,24.26,24.44,24.60,24.49,24.58,24.66,24.62,24.76,24.23,24.54,24.13,24.28,24.50,24.55,24.67,24.48,24.67,24.53,24.29,25.18,26.62,27.28,25.30,25.43,25.79,25.55,26.41,27.44,28.50,29.07,27.70,25.46,24.76,24.37,24.78,24.71,24.71,24.68,24.82,24.42,24.18,23.88,24.17,24.42,24.78,24.77,24.51,\n",
    "                          24.43,24.75,24.35,25.17,24.62,26.31,27.40,25.72,25.93,25.43,25.42,27.39,27.29,28.52,28.17,26.92,26.39,24.81,24.85,24.49,24.57,24.76,24.69,24.43,24.32,23.96,24.09,24.06,24.61,24.59,24.72,24.72,24.28,24.38,24.40,24.65,25.14,25.81,25.71,25.59,25.74,25.27,25.78,26.65,27.84,27.82,27.98,25.83,25.94,24.86,24.90,24.45,24.64,24.83,24.55,24.52,24.44,24.35,24.32,24.44,24.51,24.78,24.32,24.63,24.85,24.75,24.55,24.79,24.73,25.85,25.57,25.36,25.60,25.39,25.37,26.59,25.84,28.31,27.04,25.86,24.87,24.95,24.89,24.59,24.96,24.70,24.90,24.66,24.62,24.29,24.46,24.55,24.51,24.52,24.57,24.42,24.81,\n",
    "                          24.63,24.63,24.67,24.87,25.46,25.05,25.19,25.09,25.14,25.17,25.19,25.73,26.17,25.72,25.22,25.33,25.07,24.83,25.12,24.92,25.15,24.74,24.93,24.85,25.22,24.73,24.94,24.65,24.97,24.63,24.85,24.70,24.67,24.77,24.69,25.17,24.88,25.76,25.40,25.35,25.39,25.33,25.68,25.47,25.82,25.54,25.23,25.40,24.99,25.17,25.04,25.26,25.05,25.13,25.17,24.91,24.99,25.36,24.96,25.15,24.90,24.81,24.62,24.97,24.47,25.01,24.54,25.29,26.57,25.80,26.06,25.54,27.46,26.74,25.75,25.52,\n",
    "                          25.11,25.13,25.28,25.50,25.31,25.43,25.15,25.49,25.30,25.14,24.98,25.01,25.28,25.03,25.04,24.97,25.05,24.93,25.05,24.65,24.69,24.56,25.15,25.40,26.88,26.72,25.88,26.11,27.62,27.41,25.54,25.57,25.48,25.37,25.45,25.44,25.64,25.62,25.62,25.55,25.12,25.32,24.53,24.95,25.11,25.23,25.20,25.19,24.97,24.99,24.98,24.88,24.79,25.04,24.98,25.18,27.10,26.77,26.94,26.84,29.03,28.50,26.17,25.22,25.72,25.36,25.69,25.70,25.62,25.62,26.09,25.74,25.48,25.22,24.93,24.73,\n",
    "                          24.96,25.17,25.48,25.34,25.40,25.25,24.78,24.93,25.20,24.62,25.33,25.04,26.88,27.34,27.59,28.39,29.27,28.78,25.72,25.85,25.38,25.67,25.49,25.41,25.82,25.75,26.16,25.85,25.45,25.30,24.62,24.80,25.18,25.45,25.04,25.55,24.91,25.39,25.01,24.99,25.17,25.25,24.58,24.80,27.64,27.09,27.18,27.96,27.94,27.12,25.31,25.52,26.18,25.46,25.52,25.65,25.70,25.92,25.98,25.79,25.72,25.17,24.68,25.21,25.81,25.36,25.26,25.17,25.26,24.71,24.90,24.65,25.05,24.69,24.88,24.96,26.91,27.62,27.37,27.54,26.78,26.63,25.92,26.13,25.69,26.03,25.89,25.60,25.45,25.69,25.87,25.65,25.48,25.41,24.58,25.04,25.57,\n",
    "                          25.62,25.32,24.97,24.99,25.05,24.94,25.18,24.94,25.19,25.00,25.65,27.27,25.84,26.61,26.67,27.08,25.93,25.68,25.48,25.85,25.53,26.04,25.74,26.05,25.46,25.65,25.39,25.72,25.60,25.83,25.77,26.02,26.23,25.12,25.31,25.49,25.31,25.32,25.28,25.29,25.52,25.61,25.92,27.54,27.43,26.99,27.30,26.67,26.24,26.08,26.16,25.60,25.32,25.40,25.58,25.31,25.52,25.60,25.67,25.09,25.38,25.73,26.24,25.78,25.92,25.74,25.94,25.08,25.43,24.95,25.63,25.23,25.43,25.33,25.69])\n",
    "\n",
    "pf = fp.process_frame(raw_frame)\n",
    "# print(pf)\n",
    "\n",
    "# plt.imshow(raw_frame.reshape(24,32));\n",
    "plt.imshow(pf);\n",
    "\n",
    "print(fp.get_people_count_on_latest_frame())"
   ]
  },
  {
   "cell_type": "code",
   "execution_count": 6,
   "id": "7d479178",
   "metadata": {},
   "outputs": [
    {
     "data": {
      "text/plain": [
       "(1, 1, 24, 32)"
      ]
     },
     "execution_count": 6,
     "metadata": {},
     "output_type": "execute_result"
    }
   ],
   "source": [
    "frame_2d = np.reshape(raw_frame, IR_CAMERA_RESOLUTION)\n",
    "\n",
    "frame_normalized = (frame_2d - TEMPERATURE_NORMALIZATION__MIN) * \\\n",
    "                           (1 / (TEMPERATURE_NORMALIZATION__MAX - TEMPERATURE_NORMALIZATION__MIN))\n",
    "frame_for_model = frame_normalized[np.newaxis, :, :][np.newaxis, :, :, :]\n",
    "\n",
    "frame_for_model.shape"
   ]
  },
  {
   "cell_type": "markdown",
   "id": "bf02d931",
   "metadata": {},
   "source": [
    "# ONNX\n",
    "\n",
    "## Convert"
   ]
  },
  {
   "cell_type": "code",
   "execution_count": 7,
   "id": "3c6eca38",
   "metadata": {},
   "outputs": [],
   "source": [
    "import torch.onnx"
   ]
  },
  {
   "cell_type": "code",
   "execution_count": 8,
   "id": "df92c602",
   "metadata": {},
   "outputs": [
    {
     "data": {
      "text/plain": [
       "AutoEncoder(\n",
       "  (encoder): Encoder(\n",
       "    (conv1): ContractBlock(\n",
       "      (conv): DoubleConv(\n",
       "        (0): Conv2d(1, 16, kernel_size=(3, 3), stride=(1, 1), padding=(1, 1))\n",
       "        (1): BatchNorm2d(16, eps=1e-05, momentum=0.1, affine=True, track_running_stats=True)\n",
       "        (2): ReLU(inplace=True)\n",
       "        (3): Conv2d(16, 16, kernel_size=(3, 3), stride=(1, 1), padding=(1, 1))\n",
       "        (4): BatchNorm2d(16, eps=1e-05, momentum=0.1, affine=True, track_running_stats=True)\n",
       "        (5): ReLU(inplace=True)\n",
       "      )\n",
       "      (pool): MaxPool2d(kernel_size=2, stride=2, padding=0, dilation=1, ceil_mode=False)\n",
       "    )\n",
       "    (conv2): ContractBlock(\n",
       "      (conv): DoubleConv(\n",
       "        (0): Conv2d(16, 32, kernel_size=(3, 3), stride=(1, 1), padding=(1, 1))\n",
       "        (1): BatchNorm2d(32, eps=1e-05, momentum=0.1, affine=True, track_running_stats=True)\n",
       "        (2): ReLU(inplace=True)\n",
       "        (3): Conv2d(32, 32, kernel_size=(3, 3), stride=(1, 1), padding=(1, 1))\n",
       "        (4): BatchNorm2d(32, eps=1e-05, momentum=0.1, affine=True, track_running_stats=True)\n",
       "        (5): ReLU(inplace=True)\n",
       "      )\n",
       "      (pool): MaxPool2d(kernel_size=2, stride=2, padding=0, dilation=1, ceil_mode=False)\n",
       "    )\n",
       "  )\n",
       "  (conv): DoubleConv(\n",
       "    (0): Conv2d(32, 64, kernel_size=(3, 3), stride=(1, 1), padding=(1, 1))\n",
       "    (1): BatchNorm2d(64, eps=1e-05, momentum=0.1, affine=True, track_running_stats=True)\n",
       "    (2): ReLU(inplace=True)\n",
       "    (3): Conv2d(64, 64, kernel_size=(3, 3), stride=(1, 1), padding=(1, 1))\n",
       "    (4): BatchNorm2d(64, eps=1e-05, momentum=0.1, affine=True, track_running_stats=True)\n",
       "    (5): ReLU(inplace=True)\n",
       "  )\n",
       "  (upconv1): ExpandBlock(\n",
       "    (conv_transpose): ConvTranspose2d(64, 32, kernel_size=(3, 3), stride=(2, 2), padding=(1, 1), output_padding=(1, 1))\n",
       "    (conv1): Conv2d(64, 32, kernel_size=(3, 3), stride=(1, 1), padding=(1, 1))\n",
       "    (bn1): BatchNorm2d(32, eps=1e-05, momentum=0.1, affine=True, track_running_stats=True)\n",
       "    (conv2): Conv2d(32, 32, kernel_size=(3, 3), stride=(1, 1), padding=(1, 1))\n",
       "    (bn2): BatchNorm2d(32, eps=1e-05, momentum=0.1, affine=True, track_running_stats=True)\n",
       "    (relu): ReLU(inplace=True)\n",
       "  )\n",
       "  (upconv2): ExpandBlock(\n",
       "    (conv_transpose): ConvTranspose2d(32, 16, kernel_size=(3, 3), stride=(2, 2), padding=(1, 1), output_padding=(1, 1))\n",
       "    (conv1): Conv2d(32, 16, kernel_size=(3, 3), stride=(1, 1), padding=(1, 1))\n",
       "    (bn1): BatchNorm2d(16, eps=1e-05, momentum=0.1, affine=True, track_running_stats=True)\n",
       "    (conv2): Conv2d(16, 16, kernel_size=(3, 3), stride=(1, 1), padding=(1, 1))\n",
       "    (bn2): BatchNorm2d(16, eps=1e-05, momentum=0.1, affine=True, track_running_stats=True)\n",
       "    (relu): ReLU(inplace=True)\n",
       "  )\n",
       "  (out_conv): Conv2d(16, 1, kernel_size=(1, 1), stride=(1, 1))\n",
       ")"
      ]
     },
     "execution_count": 8,
     "metadata": {},
     "output_type": "execute_result"
    }
   ],
   "source": [
    "model = AutoEncoder(1, 1)#.double()\n",
    "\n",
    "current_dir = '.'\n",
    "model_path = os.path.join(current_dir, './models/unet_v2_cpu2')\n",
    "model.load_state_dict(torch.load(model_path))\n",
    "model.eval()"
   ]
  },
  {
   "cell_type": "code",
   "execution_count": 9,
   "id": "dd9df933",
   "metadata": {},
   "outputs": [],
   "source": [
    "# Input to the model\n",
    "x = torch.randn(1, 1, 24, 32, requires_grad=True)\n",
    "torch_out = model(x)\n",
    "\n",
    "# Export the model\n",
    "torch.onnx.export(model,               # model being run\n",
    "                  x,                         # model input (or a tuple for multiple inputs)\n",
    "                  \"./models/thermo.onnx\",   # where to save the model (can be a file or file-like object)\n",
    "                  export_params=True,        # store the trained parameter weights inside the model file\n",
    "                  opset_version=10,          # the ONNX version to export the model to\n",
    "                  do_constant_folding=True,  # whether to execute constant folding for optimization\n",
    "                  input_names = ['input'],   # the model's input names\n",
    "                  output_names = ['output'], # the model's output names\n",
    "                  dynamic_axes={'input' : {0 : 'batch_size'},    # variable length axes\n",
    "                                'output' : {0 : 'batch_size'}})"
   ]
  },
  {
   "cell_type": "markdown",
   "id": "92b206c7",
   "metadata": {},
   "source": [
    "## Check converted model"
   ]
  },
  {
   "cell_type": "code",
   "execution_count": 10,
   "id": "c2b16d9f",
   "metadata": {},
   "outputs": [],
   "source": [
    "import onnxruntime\n",
    "\n",
    "ort_session = onnxruntime.InferenceSession(\"./models/thermo.onnx\")"
   ]
  },
  {
   "cell_type": "code",
   "execution_count": 11,
   "id": "6bde610e",
   "metadata": {},
   "outputs": [
    {
     "data": {
      "text/plain": [
       "1.582384549654447"
      ]
     },
     "execution_count": 11,
     "metadata": {},
     "output_type": "execute_result"
    },
    {
     "data": {
      "image/png": "[encoded data removed]",
      "text/plain": [
       "<Figure size 432x288 with 1 Axes>"
      ]
     },
     "metadata": {
      "needs_background": "light"
     },
     "output_type": "display_data"
    }
   ],
   "source": [
    "# compute ONNX Runtime output prediction\n",
    "ort_inputs = {ort_session.get_inputs()[0].name: frame_for_model.astype(np.float32)}\n",
    "ort_outs = ort_session.run(None, ort_inputs)\n",
    "plt.imshow(ort_outs[0][0])\n",
    "\n",
    "np.sum(ort_outs) / 52.0"
   ]
  },
  {
   "cell_type": "markdown",
   "id": "8b34b330",
   "metadata": {},
   "source": [
    "# TensorFlow\n",
    "\n",
    "## Convert"
   ]
  },
  {
   "cell_type": "code",
   "execution_count": 12,
   "id": "66f30555",
   "metadata": {},
   "outputs": [
    {
     "name": "stdout",
     "output_type": "stream",
     "text": [
      "2021-11-21 17:00:06,227 - onnx-tf - INFO - Start converting onnx pb to tf pb:\r\n",
      "Traceback (most recent call last):\r\n",
      "  File \"/home/mateusz/miniconda3/envs/thermo/bin/onnx-tf\", line 8, in <module>\r\n",
      "    sys.exit(main())\r\n",
      "  File \"/home/mateusz/miniconda3/envs/thermo/lib/python3.8/site-packages/onnx_tf/cli.py\", line 20, in main\r\n",
      "    return onnx_tf.converter.main(args[1:])\r\n",
      "  File \"/home/mateusz/miniconda3/envs/thermo/lib/python3.8/site-packages/onnx_tf/converter.py\", line 20, in main\r\n",
      "    convert(**{k: v for k, v in vars(args).items() if v is not None})\r\n",
      "  File \"/home/mateusz/miniconda3/envs/thermo/lib/python3.8/site-packages/onnx_tf/converter.py\", line 134, in convert\r\n",
      "    tf_rep = backend.prepare(onnx_model, **kwargs)\r\n",
      "  File \"/home/mateusz/miniconda3/envs/thermo/lib/python3.8/site-packages/onnx_tf/backend.py\", line 70, in prepare\r\n",
      "    return cls.onnx_model_to_tensorflow_rep(model, strict, **kwargs)\r\n",
      "  File \"/home/mateusz/miniconda3/envs/thermo/lib/python3.8/site-packages/onnx_tf/backend.py\", line 90, in onnx_model_to_tensorflow_rep\r\n",
      "    return cls._onnx_graph_to_tensorflow_rep(model.graph, opset_import, strict,\r\n",
      "  File \"/home/mateusz/miniconda3/envs/thermo/lib/python3.8/site-packages/onnx_tf/backend.py\", line 111, in _onnx_graph_to_tensorflow_rep\r\n",
      "    handlers = cls._get_handlers(opset)\r\n",
      "  File \"/home/mateusz/miniconda3/envs/thermo/lib/python3.8/site-packages/onnx_tf/backend.py\", line 303, in _get_handlers\r\n",
      "    return get_all_backend_handlers(opset_dict)\r\n",
      "  File \"/home/mateusz/miniconda3/envs/thermo/lib/python3.8/site-packages/onnx_tf/common/handler_helper.py\", line 25, in get_all_backend_handlers\r\n",
      "    since_version = defs.get_schema(\r\n",
      "onnx.onnx_cpp2py_export.defs.SchemaError: No schema registered for 'BitShift'!\r\n"
     ]
    }
   ],
   "source": [
    "!onnx-tf convert -i ./models/thermo.onnx -o ./models/thermo"
   ]
  },
  {
   "cell_type": "markdown",
   "id": "64e454e1",
   "metadata": {},
   "source": [
    "# TensorFlow Lite"
   ]
  },
  {
   "cell_type": "code",
   "execution_count": 13,
   "id": "02f3037b",
   "metadata": {},
   "outputs": [],
   "source": [
    "import tensorflow as tf"
   ]
  },
  {
   "cell_type": "code",
   "execution_count": 14,
   "id": "72136cbc",
   "metadata": {},
   "outputs": [],
   "source": [
    "raw_frame = np.array([26.30,25.40,24.62,24.32,23.96,24.13,24.02,23.67,23.98,24.12,23.89,23.96,24.26,23.89,24.10,24.15,24.16,23.91,24.30,24.62,24.57,24.73,24.86,24.35,24.54,24.76,25.17,24.54,24.62,24.49,24.64,24.72,24.94,25.28,24.57,25.03,24.21,24.33,23.74,24.34,24.12,24.20,24.01,24.31,24.15,24.42,24.14,24.20,24.32,24.28,24.25,24.69,24.66,25.09,25.00,25.21,24.49,24.95,24.66,24.98,25.36,25.47,24.80,25.06,25.55,25.09,26.00,26.18,24.42,23.54,23.89,23.94,24.17,23.78,24.33,23.90,24.26,24.18,24.32,24.03,24.32,23.96,24.38,24.50,26.70,27.40,27.41,27.27,25.65,25.27,25.30,24.98,25.42,24.89,25.21,25.87,25.52,\n",
    "                          25.90,26.28,26.04,24.06,24.37,24.00,24.23,23.92,24.04,24.41,24.46,24.30,24.51,24.62,24.35,24.12,24.29,24.15,24.53,28.01,28.55,28.44,28.22,25.69,25.75,25.12,25.37,25.12,25.68,25.49,24.66,26.08,26.11,27.20,25.16,24.86,24.53,24.05,24.05,24.25,24.31,24.10,24.37,24.56,24.24,24.22,24.13,24.48,24.38,24.39,24.77,28.24,28.71,28.54,28.01,26.94,26.82,25.83,25.53,25.25,25.18,25.11,25.25,25.66,26.08,25.53,25.00,24.79,25.03,24.30,24.13,24.43,24.37,24.14,24.36,24.16,24.19,\n",
    "                          24.25,24.44,24.24,24.25,24.21,24.85,28.01,28.34,28.12,27.89,26.98,28.14,26.41,25.86,25.07,25.78,24.80,25.27,26.23,25.72,24.81,24.51,25.44,24.68,24.74,24.50,24.68,24.29,24.09,24.39,24.23,24.17,24.30,24.32,24.29,24.60,24.40,24.49,26.57,27.82,28.14,27.34,26.90,27.69,26.14,25.33,25.38,25.06,24.48,24.77,26.18,26.82,24.87,24.96,25.49,25.17,24.40,25.13,24.25,25.18,24.17,24.11,24.49,24.18,24.35,24.49,24.33,24.53,24.51,24.74,26.17,27.09,27.33,26.04,26.09,26.34,25.47,25.21,24.75,24.56,24.49,25.30,26.54,26.63,24.94,25.41,25.32,24.74,25.46,25.40,27.16,25.78,26.40,24.17,24.26,24.28,24.38,\n",
    "                          24.29,24.43,24.62,24.58,24.62,25.09,25.15,25.16,24.91,24.54,24.51,24.49,24.58,24.63,24.68,24.95,24.84,26.81,27.32,25.08,25.07,25.40,25.34,26.05,27.11,27.12,28.91,25.48,26.05,24.26,24.44,24.60,24.49,24.58,24.66,24.62,24.76,24.23,24.54,24.13,24.28,24.50,24.55,24.67,24.48,24.67,24.53,24.29,25.18,26.62,27.28,25.30,25.43,25.79,25.55,26.41,27.44,28.50,29.07,27.70,25.46,24.76,24.37,24.78,24.71,24.71,24.68,24.82,24.42,24.18,23.88,24.17,24.42,24.78,24.77,24.51,\n",
    "                          24.43,24.75,24.35,25.17,24.62,26.31,27.40,25.72,25.93,25.43,25.42,27.39,27.29,28.52,28.17,26.92,26.39,24.81,24.85,24.49,24.57,24.76,24.69,24.43,24.32,23.96,24.09,24.06,24.61,24.59,24.72,24.72,24.28,24.38,24.40,24.65,25.14,25.81,25.71,25.59,25.74,25.27,25.78,26.65,27.84,27.82,27.98,25.83,25.94,24.86,24.90,24.45,24.64,24.83,24.55,24.52,24.44,24.35,24.32,24.44,24.51,24.78,24.32,24.63,24.85,24.75,24.55,24.79,24.73,25.85,25.57,25.36,25.60,25.39,25.37,26.59,25.84,28.31,27.04,25.86,24.87,24.95,24.89,24.59,24.96,24.70,24.90,24.66,24.62,24.29,24.46,24.55,24.51,24.52,24.57,24.42,24.81,\n",
    "                          24.63,24.63,24.67,24.87,25.46,25.05,25.19,25.09,25.14,25.17,25.19,25.73,26.17,25.72,25.22,25.33,25.07,24.83,25.12,24.92,25.15,24.74,24.93,24.85,25.22,24.73,24.94,24.65,24.97,24.63,24.85,24.70,24.67,24.77,24.69,25.17,24.88,25.76,25.40,25.35,25.39,25.33,25.68,25.47,25.82,25.54,25.23,25.40,24.99,25.17,25.04,25.26,25.05,25.13,25.17,24.91,24.99,25.36,24.96,25.15,24.90,24.81,24.62,24.97,24.47,25.01,24.54,25.29,26.57,25.80,26.06,25.54,27.46,26.74,25.75,25.52,\n",
    "                          25.11,25.13,25.28,25.50,25.31,25.43,25.15,25.49,25.30,25.14,24.98,25.01,25.28,25.03,25.04,24.97,25.05,24.93,25.05,24.65,24.69,24.56,25.15,25.40,26.88,26.72,25.88,26.11,27.62,27.41,25.54,25.57,25.48,25.37,25.45,25.44,25.64,25.62,25.62,25.55,25.12,25.32,24.53,24.95,25.11,25.23,25.20,25.19,24.97,24.99,24.98,24.88,24.79,25.04,24.98,25.18,27.10,26.77,26.94,26.84,29.03,28.50,26.17,25.22,25.72,25.36,25.69,25.70,25.62,25.62,26.09,25.74,25.48,25.22,24.93,24.73,\n",
    "                          24.96,25.17,25.48,25.34,25.40,25.25,24.78,24.93,25.20,24.62,25.33,25.04,26.88,27.34,27.59,28.39,29.27,28.78,25.72,25.85,25.38,25.67,25.49,25.41,25.82,25.75,26.16,25.85,25.45,25.30,24.62,24.80,25.18,25.45,25.04,25.55,24.91,25.39,25.01,24.99,25.17,25.25,24.58,24.80,27.64,27.09,27.18,27.96,27.94,27.12,25.31,25.52,26.18,25.46,25.52,25.65,25.70,25.92,25.98,25.79,25.72,25.17,24.68,25.21,25.81,25.36,25.26,25.17,25.26,24.71,24.90,24.65,25.05,24.69,24.88,24.96,26.91,27.62,27.37,27.54,26.78,26.63,25.92,26.13,25.69,26.03,25.89,25.60,25.45,25.69,25.87,25.65,25.48,25.41,24.58,25.04,25.57,\n",
    "                          25.62,25.32,24.97,24.99,25.05,24.94,25.18,24.94,25.19,25.00,25.65,27.27,25.84,26.61,26.67,27.08,25.93,25.68,25.48,25.85,25.53,26.04,25.74,26.05,25.46,25.65,25.39,25.72,25.60,25.83,25.77,26.02,26.23,25.12,25.31,25.49,25.31,25.32,25.28,25.29,25.52,25.61,25.92,27.54,27.43,26.99,27.30,26.67,26.24,26.08,26.16,25.60,25.32,25.40,25.58,25.31,25.52,25.60,25.67,25.09,25.38,25.73,26.24,25.78,25.92,25.74,25.94,25.08,25.43,24.95,25.63,25.23,25.43,25.33,25.69])\n",
    "\n",
    "frame_2d = np.reshape(raw_frame, IR_CAMERA_RESOLUTION)\n",
    "frame_normalized = (frame_2d - TEMPERATURE_NORMALIZATION__MIN) * \\\n",
    "                           (1 / (TEMPERATURE_NORMALIZATION__MAX - TEMPERATURE_NORMALIZATION__MIN))\n",
    "frame_for_model = frame_normalized[np.newaxis, :, :][np.newaxis, :, :, :]\n",
    "\n",
    "\n",
    "def inference_tflite(model_path: str, input_data: np.ndarray):\n",
    "    dtype = np.float32\n",
    "    \n",
    "    # Load the TFLite model and allocate tensors.\n",
    "    interpreter = tf.lite.Interpreter(model_path)\n",
    "    interpreter.allocate_tensors()\n",
    "\n",
    "    # Get input and output tensors.\n",
    "    input_details = interpreter.get_input_details()\n",
    "    output_details = interpreter.get_output_details()\n",
    "    \n",
    "    print(input_details)\n",
    "    print(output_details)\n",
    "    \n",
    "    in_scale = input_details[0]['quantization'][0]\n",
    "    in_zero_point = input_details[0]['quantization'][1]\n",
    "    \n",
    "    if (in_scale, in_zero_point) != (0.0, 0):\n",
    "        input_data = input_data / in_scale + in_zero_point\n",
    "        dtype = np.int8\n",
    "    \n",
    "    input_shape = input_details[0]['shape']\n",
    "    interpreter.set_tensor(input_details[0]['index'], input_data.astype(dtype))\n",
    "\n",
    "    interpreter.invoke()\n",
    "\n",
    "    # The function `get_tensor()` returns a copy of the tensor data.\n",
    "    # Use `tensor()` in order to get a pointer to the tensor.\n",
    "    output_data = interpreter.get_tensor(output_details[0]['index'])\n",
    "    \n",
    "    out_scale = output_details[0]['quantization'][0]\n",
    "    out_zero_point = output_details[0]['quantization'][1]\n",
    "    \n",
    "    if (out_scale, out_zero_point) != (0.0, 0):\n",
    "        output_data = (output_data - out_zero_point) * out_scale\n",
    "\n",
    "    print(np.sum(output_data) / 52.0)\n",
    "    plt.imshow(output_data[0]);"
   ]
  },
  {
   "cell_type": "markdown",
   "id": "749ff633",
   "metadata": {},
   "source": [
    "## FP32"
   ]
  },
  {
   "cell_type": "code",
   "execution_count": 15,
   "id": "94d645ef",
   "metadata": {},
   "outputs": [
    {
     "name": "stderr",
     "output_type": "stream",
     "text": [
      "2021-11-21 17:00:08.241703: I tensorflow/stream_executor/cuda/cuda_gpu_executor.cc:939] successful NUMA node read from SysFS had negative value (-1), but there must be at least one NUMA node, so returning NUMA node zero\n",
      "2021-11-21 17:00:08.251699: W tensorflow/stream_executor/platform/default/dso_loader.cc:64] Could not load dynamic library 'libcudnn.so.8'; dlerror: libcudnn.so.8: cannot open shared object file: No such file or directory; LD_LIBRARY_PATH: /opt/ros/noetic/lib:/opt/ros/noetic/lib/x86_64-linux-gnu:/usr/local/cuda-11.3/include:/usr/local/cuda-11.3/lib64:\n",
      "2021-11-21 17:00:08.251725: W tensorflow/core/common_runtime/gpu/gpu_device.cc:1850] Cannot dlopen some GPU libraries. Please make sure the missing libraries mentioned above are installed properly if you would like to use GPU. Follow the guide at https://www.tensorflow.org/install/gpu for how to download and setup the required libraries for your platform.\n",
      "Skipping registering GPU devices...\n",
      "2021-11-21 17:00:08.252378: I tensorflow/core/platform/cpu_feature_guard.cc:151] This TensorFlow binary is optimized with oneAPI Deep Neural Network Library (oneDNN) to use the following CPU instructions in performance-critical operations:  AVX2 FMA\n",
      "To enable them in other operations, rebuild TensorFlow with the appropriate compiler flags.\n",
      "2021-11-21 17:00:08.754217: W tensorflow/compiler/mlir/lite/python/tf_tfl_flatbuffer_helpers.cc:363] Ignored output_format.\n",
      "2021-11-21 17:00:08.754238: W tensorflow/compiler/mlir/lite/python/tf_tfl_flatbuffer_helpers.cc:366] Ignored drop_control_dependency.\n",
      "2021-11-21 17:00:08.754243: W tensorflow/compiler/mlir/lite/python/tf_tfl_flatbuffer_helpers.cc:372] Ignored change_concat_input_ranges.\n",
      "2021-11-21 17:00:08.755072: I tensorflow/cc/saved_model/reader.cc:43] Reading SavedModel from: ./models/thermo\n",
      "2021-11-21 17:00:08.757182: I tensorflow/cc/saved_model/reader.cc:107] Reading meta graph with tags { serve }\n",
      "2021-11-21 17:00:08.757212: I tensorflow/cc/saved_model/reader.cc:148] Reading SavedModel debug info (if present) from: ./models/thermo\n",
      "2021-11-21 17:00:08.764900: I tensorflow/cc/saved_model/loader.cc:210] Restoring SavedModel bundle.\n",
      "2021-11-21 17:00:08.799464: I tensorflow/cc/saved_model/loader.cc:194] Running initialization op on SavedModel bundle at path: ./models/thermo\n",
      "2021-11-21 17:00:08.829150: I tensorflow/cc/saved_model/loader.cc:283] SavedModel load for tags { serve }; Status: success: OK. Took 74079 microseconds.\n",
      "2021-11-21 17:00:08.859568: I tensorflow/compiler/mlir/tensorflow/utils/dump_mlir_util.cc:237] disabling MLIR crash reproducer, set env var `MLIR_CRASH_REPRODUCER_DIRECTORY` to enable.\n"
     ]
    },
    {
     "name": "stdout",
     "output_type": "stream",
     "text": [
      "[{'name': 'serving_default_input:0', 'index': 0, 'shape': array([ 1,  1, 24, 32], dtype=int32), 'shape_signature': array([-1,  1, 24, 32], dtype=int32), 'dtype': <class 'numpy.float32'>, 'quantization': (0.0, 0), 'quantization_parameters': {'scales': array([], dtype=float32), 'zero_points': array([], dtype=int32), 'quantized_dimension': 0}, 'sparsity_parameters': {}}]\n",
      "[{'name': 'PartitionedCall:0', 'index': 112, 'shape': array([ 1, 24, 32], dtype=int32), 'shape_signature': array([-1, 24, 32], dtype=int32), 'dtype': <class 'numpy.float32'>, 'quantization': (0.0, 0), 'quantization_parameters': {'scales': array([], dtype=float32), 'zero_points': array([], dtype=int32), 'quantized_dimension': 0}, 'sparsity_parameters': {}}]\n",
      "1.582383816058819\n"
     ]
    },
    {
     "data": {
      "image/png": "[encoded data removed]",
      "text/plain": [
       "<Figure size 432x288 with 1 Axes>"
      ]
     },
     "metadata": {
      "needs_background": "light"
     },
     "output_type": "display_data"
    }
   ],
   "source": [
    "# Convert the model\n",
    "converter = tf.lite.TFLiteConverter.from_saved_model('./models/thermo') # path to the SavedModel directory\n",
    "tflite_model = converter.convert()\n",
    "\n",
    "# Save the model.\n",
    "with open('./models/thermo_fp32.tflite', 'wb') as f:\n",
    "    f.write(tflite_model)\n",
    "    \n",
    "inference_tflite(\"./models/thermo_fp32.tflite\", frame_for_model)"
   ]
  },
  {
   "cell_type": "markdown",
   "id": "7b0b3606",
   "metadata": {},
   "source": [
    "## FP16"
   ]
  },
  {
   "cell_type": "code",
   "execution_count": 16,
   "id": "16bc1f7f",
   "metadata": {},
   "outputs": [
    {
     "name": "stdout",
     "output_type": "stream",
     "text": [
      "[{'name': 'serving_default_input:0', 'index': 0, 'shape': array([ 1,  1, 24, 32], dtype=int32), 'shape_signature': array([-1,  1, 24, 32], dtype=int32), 'dtype': <class 'numpy.float32'>, 'quantization': (0.0, 0), 'quantization_parameters': {'scales': array([], dtype=float32), 'zero_points': array([], dtype=int32), 'quantized_dimension': 0}, 'sparsity_parameters': {}}]\n",
      "[{'name': 'PartitionedCall:0', 'index': 112, 'shape': array([ 1, 24, 32], dtype=int32), 'shape_signature': array([-1, 24, 32], dtype=int32), 'dtype': <class 'numpy.float32'>, 'quantization': (0.0, 0), 'quantization_parameters': {'scales': array([], dtype=float32), 'zero_points': array([], dtype=int32), 'quantized_dimension': 0}, 'sparsity_parameters': {}}]\n",
      "1.5855868412898138\n"
     ]
    },
    {
     "name": "stderr",
     "output_type": "stream",
     "text": [
      "2021-11-21 17:00:09.667573: W tensorflow/compiler/mlir/lite/python/tf_tfl_flatbuffer_helpers.cc:363] Ignored output_format.\n",
      "2021-11-21 17:00:09.667596: W tensorflow/compiler/mlir/lite/python/tf_tfl_flatbuffer_helpers.cc:366] Ignored drop_control_dependency.\n",
      "2021-11-21 17:00:09.667600: W tensorflow/compiler/mlir/lite/python/tf_tfl_flatbuffer_helpers.cc:372] Ignored change_concat_input_ranges.\n",
      "2021-11-21 17:00:09.667821: I tensorflow/cc/saved_model/reader.cc:43] Reading SavedModel from: ./models/thermo\n",
      "2021-11-21 17:00:09.669678: I tensorflow/cc/saved_model/reader.cc:107] Reading meta graph with tags { serve }\n",
      "2021-11-21 17:00:09.669693: I tensorflow/cc/saved_model/reader.cc:148] Reading SavedModel debug info (if present) from: ./models/thermo\n",
      "2021-11-21 17:00:09.675977: I tensorflow/cc/saved_model/loader.cc:210] Restoring SavedModel bundle.\n",
      "2021-11-21 17:00:09.706393: I tensorflow/cc/saved_model/loader.cc:194] Running initialization op on SavedModel bundle at path: ./models/thermo\n",
      "2021-11-21 17:00:09.735445: I tensorflow/cc/saved_model/loader.cc:283] SavedModel load for tags { serve }; Status: success: OK. Took 67625 microseconds.\n"
     ]
    },
    {
     "data": {
      "image/png": "[encoded data removed]",
      "text/plain": [
       "<Figure size 432x288 with 1 Axes>"
      ]
     },
     "metadata": {
      "needs_background": "light"
     },
     "output_type": "display_data"
    }
   ],
   "source": [
    "converter = tf.lite.TFLiteConverter.from_saved_model('./models/thermo')\n",
    "converter.optimizations = [tf.lite.Optimize.DEFAULT]\n",
    "converter.target_spec.supported_types = [tf.float16]\n",
    "tflite_model_fp16 = converter.convert()\n",
    "\n",
    "# Save the model.\n",
    "with open('./models/thermo_fp16.tflite', 'wb') as f:\n",
    "    f.write(tflite_model_fp16)\n",
    "    \n",
    "inference_tflite(\"./models/thermo_fp16.tflite\", frame_for_model)"
   ]
  },
  {
   "cell_type": "markdown",
   "id": "73f0ed6d",
   "metadata": {},
   "source": [
    "## INT8"
   ]
  },
  {
   "cell_type": "code",
   "execution_count": 17,
   "id": "0c2a69b1",
   "metadata": {},
   "outputs": [],
   "source": [
    "import pandas as pd"
   ]
  },
  {
   "cell_type": "code",
   "execution_count": 18,
   "id": "b844dd84",
   "metadata": {},
   "outputs": [],
   "source": [
    "def representative_dataset():\n",
    "    df = pd.read_csv('../data_processing/example_data/one_person_close.csv', delimiter=',', skiprows=[0], index_col=0)\n",
    "    \n",
    "    for i in range(100):\n",
    "        data = df.iloc[i].values[1:]\n",
    "        data = np.reshape(data, IR_CAMERA_RESOLUTION)\n",
    "        data = (data - TEMPERATURE_NORMALIZATION__MIN) * \\\n",
    "                           (1 / (TEMPERATURE_NORMALIZATION__MAX - TEMPERATURE_NORMALIZATION__MIN))\n",
    "        data = data[np.newaxis, :, :][np.newaxis, :, :, :]\n",
    "        data = data.astype(np.float32)\n",
    "#         data = (data * 255).astype(np.uint8)\n",
    "        yield [data]"
   ]
  },
  {
   "cell_type": "markdown",
   "id": "9acfe3dd",
   "metadata": {},
   "source": [
    "### Convert real value data to int8 format \n",
    "int8_value = real_value / scale + zero_point\n",
    "\n",
    "### Convert int8 data to real value format\n",
    "real_value = (int8_value - zero_point) * scale"
   ]
  },
  {
   "cell_type": "code",
   "execution_count": 19,
   "id": "b200a8b0",
   "metadata": {
    "scrolled": false
   },
   "outputs": [
    {
     "name": "stderr",
     "output_type": "stream",
     "text": [
      "2021-11-21 17:00:10.483406: W tensorflow/compiler/mlir/lite/python/tf_tfl_flatbuffer_helpers.cc:363] Ignored output_format.\n",
      "2021-11-21 17:00:10.483442: W tensorflow/compiler/mlir/lite/python/tf_tfl_flatbuffer_helpers.cc:366] Ignored drop_control_dependency.\n",
      "2021-11-21 17:00:10.483447: W tensorflow/compiler/mlir/lite/python/tf_tfl_flatbuffer_helpers.cc:372] Ignored change_concat_input_ranges.\n",
      "2021-11-21 17:00:10.483689: I tensorflow/cc/saved_model/reader.cc:43] Reading SavedModel from: ./models/thermo\n",
      "2021-11-21 17:00:10.485516: I tensorflow/cc/saved_model/reader.cc:107] Reading meta graph with tags { serve }\n",
      "2021-11-21 17:00:10.485530: I tensorflow/cc/saved_model/reader.cc:148] Reading SavedModel debug info (if present) from: ./models/thermo\n",
      "2021-11-21 17:00:10.491631: I tensorflow/cc/saved_model/loader.cc:210] Restoring SavedModel bundle.\n",
      "2021-11-21 17:00:10.522191: I tensorflow/cc/saved_model/loader.cc:194] Running initialization op on SavedModel bundle at path: ./models/thermo\n",
      "2021-11-21 17:00:10.550479: I tensorflow/cc/saved_model/loader.cc:283] SavedModel load for tags { serve }; Status: success: OK. Took 66790 microseconds.\n",
      "fully_quantize: 0, inference_type: 6, input_inference_type: 9, output_inference_type: 9\n"
     ]
    },
    {
     "name": "stdout",
     "output_type": "stream",
     "text": [
      "[{'name': 'serving_default_input:0', 'index': 0, 'shape': array([ 1,  1, 24, 32], dtype=int32), 'shape_signature': array([-1,  1, 24, 32], dtype=int32), 'dtype': <class 'numpy.int8'>, 'quantization': (0.0037934640422463417, -101), 'quantization_parameters': {'scales': array([0.00379346], dtype=float32), 'zero_points': array([-101], dtype=int32), 'quantized_dimension': 0}, 'sparsity_parameters': {}}]\n",
      "[{'name': 'PartitionedCall:0', 'index': 112, 'shape': array([ 1, 24, 32], dtype=int32), 'shape_signature': array([-1, 24, 32], dtype=int32), 'dtype': <class 'numpy.int8'>, 'quantization': (0.008557175286114216, -37), 'quantization_parameters': {'scales': array([0.00855718], dtype=float32), 'zero_points': array([-37], dtype=int32), 'quantized_dimension': 0}, 'sparsity_parameters': {}}]\n",
      "1.4775937864234527\n"
     ]
    },
    {
     "data": {
      "image/png": "[encoded data removed]",
      "text/plain": [
       "<Figure size 432x288 with 1 Axes>"
      ]
     },
     "metadata": {
      "needs_background": "light"
     },
     "output_type": "display_data"
    }
   ],
   "source": [
    "converter = tf.lite.TFLiteConverter.from_saved_model('./models/thermo')\n",
    "converter.optimizations = [tf.lite.Optimize.DEFAULT]\n",
    "converter.representative_dataset = representative_dataset\n",
    "converter.target_spec.supported_ops = [tf.lite.OpsSet.TFLITE_BUILTINS_INT8]\n",
    "converter.inference_input_type = tf.int8  # or tf.uint8\n",
    "converter.inference_output_type = tf.int8  # or tf.uint8\n",
    "converter._experimental_new_quantizer = True\n",
    "tflite_model_int8 = converter.convert()\n",
    "\n",
    "# Save the model.\n",
    "with open('./models/thermo_int8.tflite', 'wb') as f:\n",
    "    f.write(tflite_model_int8)\n",
    "    \n",
    "inference_tflite(\"./models/thermo_int8.tflite\", frame_for_model)"
   ]
  },
  {
   "cell_type": "markdown",
   "id": "a7c2202c",
   "metadata": {},
   "source": [
    "## Edge TPU compiled"
   ]
  },
  {
   "cell_type": "code",
   "execution_count": 20,
   "id": "75ffdc3d",
   "metadata": {},
   "outputs": [
    {
     "name": "stdout",
     "output_type": "stream",
     "text": [
      "Edge TPU Compiler version 16.0.384591198\r\n",
      "Started a compilation timeout timer of 180 seconds.\r\n",
      "ERROR: Attempting to use a delegate that only supports static-sized tensors with a graph that has dynamic-sized tensors.\r\n",
      "Compilation failed: Model failed in Tflite interpreter. Please ensure model can be loaded/run in Tflite interpreter.\r\n",
      "Compilation child process completed within timeout period.\r\n",
      "Compilation failed! \r\n"
     ]
    }
   ],
   "source": [
    "!edgetpu_compiler ./models/thermo_int8.tflite"
   ]
  },
  {
   "cell_type": "markdown",
   "id": "3aa1d9ee",
   "metadata": {},
   "source": [
    "## TensorFlow Lite Micro"
   ]
  },
  {
   "cell_type": "code",
   "execution_count": 21,
   "id": "ed06403e",
   "metadata": {},
   "outputs": [],
   "source": [
    "!xxd -i ./models/thermo_int8.tflite ./models/thermo_int8.cc"
   ]
  },
  {
   "cell_type": "code",
   "execution_count": 22,
   "id": "1578247c",
   "metadata": {},
   "outputs": [
    {
     "name": "stdout",
     "output_type": "stream",
     "text": [
      "sed: -e expression #1, char 30: unknown option to `s'\r\n"
     ]
    }
   ],
   "source": [
    "!sed -i 's/models/thermo_int8_tflite/g_model/g' ./models/thermo_int8.cc"
   ]
  },
  {
   "cell_type": "code",
   "execution_count": 23,
   "id": "aa4c7bf9",
   "metadata": {},
   "outputs": [
    {
     "name": "stdout",
     "output_type": "stream",
     "text": [
      "  0x00, 0x00, 0x04, 0x00, 0x0c, 0x00, 0x00, 0x00, 0x4d, 0x00, 0x00, 0x00,\r\n",
      "  0x00, 0x00, 0x00, 0x4d, 0xd0, 0xff, 0xff, 0xff, 0x11, 0x00, 0x00, 0x00,\r\n",
      "  0x02, 0x00, 0x00, 0x00, 0x00, 0x00, 0x00, 0x11, 0xe0, 0xff, 0xff, 0xff,\r\n",
      "  0x03, 0x00, 0x00, 0x00, 0x03, 0x00, 0x00, 0x00, 0x00, 0x00, 0x00, 0x03,\r\n",
      "  0xf0, 0xff, 0xff, 0xff, 0x27, 0x00, 0x00, 0x00, 0x02, 0x00, 0x00, 0x00,\r\n",
      "  0x00, 0x00, 0x00, 0x27, 0x0c, 0x00, 0x10, 0x00, 0x0f, 0x00, 0x00, 0x00,\r\n",
      "  0x08, 0x00, 0x04, 0x00, 0x0c, 0x00, 0x00, 0x00, 0x22, 0x00, 0x00, 0x00,\r\n",
      "  0x02, 0x00, 0x00, 0x00, 0x00, 0x00, 0x00, 0x22\r\n",
      "};\r\n",
      "unsigned int __models_thermo_int8_tflite_len = 156200;\r\n"
     ]
    }
   ],
   "source": [
    "!cat ./models/thermo_int8.cc | tail"
   ]
  }
 ],
 "metadata": {
  "kernelspec": {
   "display_name": "Python 3 (ipykernel)",
   "language": "python",
   "name": "python3"
  },
  "language_info": {
   "codemirror_mode": {
    "name": "ipython",
    "version": 3
   },
   "file_extension": ".py",
   "mimetype": "text/x-python",
   "name": "python",
   "nbconvert_exporter": "python",
   "pygments_lexer": "ipython3",
   "version": "3.8.5"
  }
 },
 "nbformat": 4,
 "nbformat_minor": 5
}
